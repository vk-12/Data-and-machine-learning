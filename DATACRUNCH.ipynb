{
 "cells": [
  {
   "cell_type": "code",
   "execution_count": null,
   "metadata": {},
   "outputs": [],
   "source": [
    "import pandas as pd \n",
    "import numpy as np\n",
    "import matplotlib.pyplot as plt\n",
    "import seaborn as sns\n",
    "%matplot inline"
   ]
  },
  {
   "cell_type": "code",
   "execution_count": 2,
   "metadata": {},
   "outputs": [],
   "source": [
    "df = pd.read_csv('train1.csv')\n",
    "submisson = pd.read_csv('SubmissionSample.csv')\n",
    "test = pd.read_csv('test1.csv')"
   ]
  },
  {
   "cell_type": "code",
   "execution_count": 3,
   "metadata": {},
   "outputs": [
    {
     "data": {
      "text/html": [
       "<div>\n",
       "<style scoped>\n",
       "    .dataframe tbody tr th:only-of-type {\n",
       "        vertical-align: middle;\n",
       "    }\n",
       "\n",
       "    .dataframe tbody tr th {\n",
       "        vertical-align: top;\n",
       "    }\n",
       "\n",
       "    .dataframe thead th {\n",
       "        text-align: right;\n",
       "    }\n",
       "</style>\n",
       "<table border=\"1\" class=\"dataframe\">\n",
       "  <thead>\n",
       "    <tr style=\"text-align: right;\">\n",
       "      <th></th>\n",
       "      <th>Loan.ID</th>\n",
       "      <th>Current.Loan.Amount</th>\n",
       "      <th>Term</th>\n",
       "      <th>Credit.Score</th>\n",
       "      <th>Years.in.current.job</th>\n",
       "      <th>Home.Ownership</th>\n",
       "      <th>Annual.Income</th>\n",
       "      <th>Purpose</th>\n",
       "      <th>Monthly.Debt</th>\n",
       "      <th>Years.of.Credit.History</th>\n",
       "      <th>Months.since.last.delinquent</th>\n",
       "      <th>Number.of.Open.Accounts</th>\n",
       "      <th>Number.of.Credit.Problems</th>\n",
       "      <th>Current.Credit.Balance</th>\n",
       "      <th>Maximum.Open.Credit</th>\n",
       "      <th>Bankruptcies</th>\n",
       "      <th>Tax.Liens</th>\n",
       "      <th>Loan.Status</th>\n",
       "    </tr>\n",
       "  </thead>\n",
       "  <tbody>\n",
       "    <tr>\n",
       "      <th>0</th>\n",
       "      <td>2</td>\n",
       "      <td>6966</td>\n",
       "      <td>Short Term</td>\n",
       "      <td>673.0</td>\n",
       "      <td>1 year</td>\n",
       "      <td>Home Mortgage</td>\n",
       "      <td>54736.0</td>\n",
       "      <td>Home Improvements</td>\n",
       "      <td>839.28</td>\n",
       "      <td>16.4</td>\n",
       "      <td>8.0</td>\n",
       "      <td>6</td>\n",
       "      <td>0</td>\n",
       "      <td>2942</td>\n",
       "      <td>3881</td>\n",
       "      <td>0.0</td>\n",
       "      <td>0.0</td>\n",
       "      <td>NaN</td>\n",
       "    </tr>\n",
       "    <tr>\n",
       "      <th>1</th>\n",
       "      <td>6</td>\n",
       "      <td>9848</td>\n",
       "      <td>Short Term</td>\n",
       "      <td>NaN</td>\n",
       "      <td>6 years</td>\n",
       "      <td>Rent</td>\n",
       "      <td>NaN</td>\n",
       "      <td>Debt Consolidation</td>\n",
       "      <td>605.65</td>\n",
       "      <td>18.8</td>\n",
       "      <td>NaN</td>\n",
       "      <td>6</td>\n",
       "      <td>0</td>\n",
       "      <td>6957</td>\n",
       "      <td>8568</td>\n",
       "      <td>0.0</td>\n",
       "      <td>0.0</td>\n",
       "      <td>NaN</td>\n",
       "    </tr>\n",
       "    <tr>\n",
       "      <th>2</th>\n",
       "      <td>9</td>\n",
       "      <td>99999999</td>\n",
       "      <td>Short Term</td>\n",
       "      <td>724.0</td>\n",
       "      <td>3 years</td>\n",
       "      <td>Rent</td>\n",
       "      <td>27462.0</td>\n",
       "      <td>Debt Consolidation</td>\n",
       "      <td>338.69</td>\n",
       "      <td>10.8</td>\n",
       "      <td>NaN</td>\n",
       "      <td>10</td>\n",
       "      <td>0</td>\n",
       "      <td>11773</td>\n",
       "      <td>15369</td>\n",
       "      <td>0.0</td>\n",
       "      <td>0.0</td>\n",
       "      <td>NaN</td>\n",
       "    </tr>\n",
       "    <tr>\n",
       "      <th>3</th>\n",
       "      <td>12</td>\n",
       "      <td>6737</td>\n",
       "      <td>Short Term</td>\n",
       "      <td>NaN</td>\n",
       "      <td>3 years</td>\n",
       "      <td>Rent</td>\n",
       "      <td>NaN</td>\n",
       "      <td>Debt Consolidation</td>\n",
       "      <td>506.38</td>\n",
       "      <td>5.7</td>\n",
       "      <td>NaN</td>\n",
       "      <td>9</td>\n",
       "      <td>0</td>\n",
       "      <td>5841</td>\n",
       "      <td>10856</td>\n",
       "      <td>0.0</td>\n",
       "      <td>0.0</td>\n",
       "      <td>NaN</td>\n",
       "    </tr>\n",
       "    <tr>\n",
       "      <th>4</th>\n",
       "      <td>14</td>\n",
       "      <td>5878</td>\n",
       "      <td>Short Term</td>\n",
       "      <td>743.0</td>\n",
       "      <td>less than  1 year</td>\n",
       "      <td>Home Mortgage</td>\n",
       "      <td>107767.0</td>\n",
       "      <td>Home Improvements</td>\n",
       "      <td>1420.73</td>\n",
       "      <td>24.6</td>\n",
       "      <td>5.0</td>\n",
       "      <td>14</td>\n",
       "      <td>0</td>\n",
       "      <td>35963</td>\n",
       "      <td>89459</td>\n",
       "      <td>0.0</td>\n",
       "      <td>0.0</td>\n",
       "      <td>NaN</td>\n",
       "    </tr>\n",
       "    <tr>\n",
       "      <th>...</th>\n",
       "      <td>...</td>\n",
       "      <td>...</td>\n",
       "      <td>...</td>\n",
       "      <td>...</td>\n",
       "      <td>...</td>\n",
       "      <td>...</td>\n",
       "      <td>...</td>\n",
       "      <td>...</td>\n",
       "      <td>...</td>\n",
       "      <td>...</td>\n",
       "      <td>...</td>\n",
       "      <td>...</td>\n",
       "      <td>...</td>\n",
       "      <td>...</td>\n",
       "      <td>...</td>\n",
       "      <td>...</td>\n",
       "      <td>...</td>\n",
       "      <td>...</td>\n",
       "    </tr>\n",
       "    <tr>\n",
       "      <th>23381</th>\n",
       "      <td>84174</td>\n",
       "      <td>19600</td>\n",
       "      <td>Short Term</td>\n",
       "      <td>NaN</td>\n",
       "      <td>8 years</td>\n",
       "      <td>Home Mortgage</td>\n",
       "      <td>NaN</td>\n",
       "      <td>Debt Consolidation</td>\n",
       "      <td>2041.66</td>\n",
       "      <td>19.4</td>\n",
       "      <td>40.0</td>\n",
       "      <td>24</td>\n",
       "      <td>0</td>\n",
       "      <td>19405</td>\n",
       "      <td>42555</td>\n",
       "      <td>0.0</td>\n",
       "      <td>0.0</td>\n",
       "      <td>NaN</td>\n",
       "    </tr>\n",
       "    <tr>\n",
       "      <th>23382</th>\n",
       "      <td>84177</td>\n",
       "      <td>14727</td>\n",
       "      <td>Short Term</td>\n",
       "      <td>745.0</td>\n",
       "      <td>5 years</td>\n",
       "      <td>Home Mortgage</td>\n",
       "      <td>78544.0</td>\n",
       "      <td>Debt Consolidation</td>\n",
       "      <td>988.35</td>\n",
       "      <td>13.0</td>\n",
       "      <td>NaN</td>\n",
       "      <td>11</td>\n",
       "      <td>0</td>\n",
       "      <td>17083</td>\n",
       "      <td>31991</td>\n",
       "      <td>0.0</td>\n",
       "      <td>0.0</td>\n",
       "      <td>NaN</td>\n",
       "    </tr>\n",
       "    <tr>\n",
       "      <th>23383</th>\n",
       "      <td>84180</td>\n",
       "      <td>23065</td>\n",
       "      <td>Long Term</td>\n",
       "      <td>655.0</td>\n",
       "      <td>less than  1 year</td>\n",
       "      <td>Home Mortgage</td>\n",
       "      <td>85823.0</td>\n",
       "      <td>Business Loan</td>\n",
       "      <td>172.36</td>\n",
       "      <td>14.0</td>\n",
       "      <td>21.0</td>\n",
       "      <td>6</td>\n",
       "      <td>0</td>\n",
       "      <td>969</td>\n",
       "      <td>6726</td>\n",
       "      <td>0.0</td>\n",
       "      <td>0.0</td>\n",
       "      <td>NaN</td>\n",
       "    </tr>\n",
       "    <tr>\n",
       "      <th>23384</th>\n",
       "      <td>84182</td>\n",
       "      <td>11318</td>\n",
       "      <td>Short Term</td>\n",
       "      <td>748.0</td>\n",
       "      <td>1 year</td>\n",
       "      <td>Rent</td>\n",
       "      <td>84949.0</td>\n",
       "      <td>Debt Consolidation</td>\n",
       "      <td>842.41</td>\n",
       "      <td>16.0</td>\n",
       "      <td>NaN</td>\n",
       "      <td>17</td>\n",
       "      <td>0</td>\n",
       "      <td>5903</td>\n",
       "      <td>22194</td>\n",
       "      <td>0.0</td>\n",
       "      <td>0.0</td>\n",
       "      <td>NaN</td>\n",
       "    </tr>\n",
       "    <tr>\n",
       "      <th>23385</th>\n",
       "      <td>84188</td>\n",
       "      <td>8254</td>\n",
       "      <td>Short Term</td>\n",
       "      <td>741.0</td>\n",
       "      <td>1 year</td>\n",
       "      <td>Home Mortgage</td>\n",
       "      <td>58151.0</td>\n",
       "      <td>Business Loan</td>\n",
       "      <td>852.89</td>\n",
       "      <td>14.7</td>\n",
       "      <td>NaN</td>\n",
       "      <td>11</td>\n",
       "      <td>0</td>\n",
       "      <td>4990</td>\n",
       "      <td>34180</td>\n",
       "      <td>0.0</td>\n",
       "      <td>0.0</td>\n",
       "      <td>NaN</td>\n",
       "    </tr>\n",
       "  </tbody>\n",
       "</table>\n",
       "<p>23386 rows × 18 columns</p>\n",
       "</div>"
      ],
      "text/plain": [
       "       Loan.ID  Current.Loan.Amount        Term  Credit.Score  \\\n",
       "0            2                 6966  Short Term         673.0   \n",
       "1            6                 9848  Short Term           NaN   \n",
       "2            9             99999999  Short Term         724.0   \n",
       "3           12                 6737  Short Term           NaN   \n",
       "4           14                 5878  Short Term         743.0   \n",
       "...        ...                  ...         ...           ...   \n",
       "23381    84174                19600  Short Term           NaN   \n",
       "23382    84177                14727  Short Term         745.0   \n",
       "23383    84180                23065   Long Term         655.0   \n",
       "23384    84182                11318  Short Term         748.0   \n",
       "23385    84188                 8254  Short Term         741.0   \n",
       "\n",
       "      Years.in.current.job Home.Ownership  Annual.Income             Purpose  \\\n",
       "0                   1 year  Home Mortgage        54736.0   Home Improvements   \n",
       "1                  6 years           Rent            NaN  Debt Consolidation   \n",
       "2                  3 years           Rent        27462.0  Debt Consolidation   \n",
       "3                  3 years           Rent            NaN  Debt Consolidation   \n",
       "4        less than  1 year  Home Mortgage       107767.0   Home Improvements   \n",
       "...                    ...            ...            ...                 ...   \n",
       "23381              8 years  Home Mortgage            NaN  Debt Consolidation   \n",
       "23382              5 years  Home Mortgage        78544.0  Debt Consolidation   \n",
       "23383    less than  1 year  Home Mortgage        85823.0       Business Loan   \n",
       "23384               1 year           Rent        84949.0  Debt Consolidation   \n",
       "23385               1 year  Home Mortgage        58151.0       Business Loan   \n",
       "\n",
       "       Monthly.Debt  Years.of.Credit.History  Months.since.last.delinquent  \\\n",
       "0            839.28                     16.4                           8.0   \n",
       "1            605.65                     18.8                           NaN   \n",
       "2            338.69                     10.8                           NaN   \n",
       "3            506.38                      5.7                           NaN   \n",
       "4           1420.73                     24.6                           5.0   \n",
       "...             ...                      ...                           ...   \n",
       "23381       2041.66                     19.4                          40.0   \n",
       "23382        988.35                     13.0                           NaN   \n",
       "23383        172.36                     14.0                          21.0   \n",
       "23384        842.41                     16.0                           NaN   \n",
       "23385        852.89                     14.7                           NaN   \n",
       "\n",
       "       Number.of.Open.Accounts  Number.of.Credit.Problems  \\\n",
       "0                            6                          0   \n",
       "1                            6                          0   \n",
       "2                           10                          0   \n",
       "3                            9                          0   \n",
       "4                           14                          0   \n",
       "...                        ...                        ...   \n",
       "23381                       24                          0   \n",
       "23382                       11                          0   \n",
       "23383                        6                          0   \n",
       "23384                       17                          0   \n",
       "23385                       11                          0   \n",
       "\n",
       "       Current.Credit.Balance  Maximum.Open.Credit  Bankruptcies  Tax.Liens  \\\n",
       "0                        2942                 3881           0.0        0.0   \n",
       "1                        6957                 8568           0.0        0.0   \n",
       "2                       11773                15369           0.0        0.0   \n",
       "3                        5841                10856           0.0        0.0   \n",
       "4                       35963                89459           0.0        0.0   \n",
       "...                       ...                  ...           ...        ...   \n",
       "23381                   19405                42555           0.0        0.0   \n",
       "23382                   17083                31991           0.0        0.0   \n",
       "23383                     969                 6726           0.0        0.0   \n",
       "23384                    5903                22194           0.0        0.0   \n",
       "23385                    4990                34180           0.0        0.0   \n",
       "\n",
       "       Loan.Status  \n",
       "0              NaN  \n",
       "1              NaN  \n",
       "2              NaN  \n",
       "3              NaN  \n",
       "4              NaN  \n",
       "...            ...  \n",
       "23381          NaN  \n",
       "23382          NaN  \n",
       "23383          NaN  \n",
       "23384          NaN  \n",
       "23385          NaN  \n",
       "\n",
       "[23386 rows x 18 columns]"
      ]
     },
     "execution_count": 3,
     "metadata": {},
     "output_type": "execute_result"
    }
   ],
   "source": [
    "df.replace('NA', np.NaN)\n",
    "test.replace('NA', np.NaN)"
   ]
  },
  {
   "cell_type": "code",
   "execution_count": 4,
   "metadata": {},
   "outputs": [],
   "source": [
    "df.rename(columns={\"Loan.ID\" : \"LoanID\", \"Current.Loan.Amount\" : \"CurrentLoanAmount\", \"Credit.Score\" : \"CreditScore\", \"Years.in.current.job\" : \"Yearsincurrentjob\",\"Home.Ownership\" : \"HomeOwnership\", \"Annual.Income\" : \"AnnualIncome\", \"Monthly.Debt\" : \"MonthlyDebt\", \"Years.of.Credit.History\" : \"YearsofCreditHistory\"},inplace=True)"
   ]
  },
  {
   "cell_type": "code",
   "execution_count": 5,
   "metadata": {},
   "outputs": [],
   "source": [
    "test.rename(columns={\"Loan.ID\" : \"LoanID\", \"Current.Loan.Amount\" : \"CurrentLoanAmount\", \"Credit.Score\" : \"CreditScore\", \"Years.in.current.job\" : \"Yearsincurrentjob\",\"Home.Ownership\" : \"HomeOwnership\", \"Annual.Income\" : \"AnnualIncome\", \"Monthly.Debt\" : \"MonthlyDebt\", \"Years.of.Credit.History\" : \"YearsofCreditHistory\"},inplace=True)"
   ]
  },
  {
   "cell_type": "code",
   "execution_count": 6,
   "metadata": {},
   "outputs": [],
   "source": [
    "df.rename(columns={\"Months.since.last.delinquent\" : \"Monthssincelastdelinquent\", \"Number.of.Open.Accounts\" : \"NumberofOpenAccounts\", \"Number.of.Credit.Problems\" : \"NumberofCreditProblems\", \"Current.Credit.Balance\" : \"CurrentCreditBalance\", \"Maximum.Open.Credit\" : \"MaximumOpenCredit\", \"Tax.Liens\" : \"TaxLiens\", \"Loan.Status\" : \"LoanStatus\"},inplace=True)"
   ]
  },
  {
   "cell_type": "code",
   "execution_count": 7,
   "metadata": {},
   "outputs": [],
   "source": [
    "test.rename(columns={\"Months.since.last.delinquent\" : \"Monthssincelastdelinquent\", \"Number.of.Open.Accounts\" : \"NumberofOpenAccounts\", \"Number.of.Credit.Problems\" : \"NumberofCreditProblems\", \"Current.Credit.Balance\" : \"CurrentCreditBalance\", \"Maximum.Open.Credit\" : \"MaximumOpenCredit\", \"Tax.Liens\" : \"TaxLiens\", \"Loan.Status\" : \"LoanStatus\"},inplace=True)"
   ]
  },
  {
   "cell_type": "code",
   "execution_count": 8,
   "metadata": {},
   "outputs": [],
   "source": [
    "testx = test['LoanID']"
   ]
  },
  {
   "cell_type": "code",
   "execution_count": 9,
   "metadata": {},
   "outputs": [
    {
     "data": {
      "text/html": [
       "<div>\n",
       "<style scoped>\n",
       "    .dataframe tbody tr th:only-of-type {\n",
       "        vertical-align: middle;\n",
       "    }\n",
       "\n",
       "    .dataframe tbody tr th {\n",
       "        vertical-align: top;\n",
       "    }\n",
       "\n",
       "    .dataframe thead th {\n",
       "        text-align: right;\n",
       "    }\n",
       "</style>\n",
       "<table border=\"1\" class=\"dataframe\">\n",
       "  <thead>\n",
       "    <tr style=\"text-align: right;\">\n",
       "      <th></th>\n",
       "      <th>LoanID</th>\n",
       "      <th>CurrentLoanAmount</th>\n",
       "      <th>CreditScore</th>\n",
       "      <th>Yearsincurrentjob</th>\n",
       "      <th>AnnualIncome</th>\n",
       "      <th>MonthlyDebt</th>\n",
       "      <th>YearsofCreditHistory</th>\n",
       "      <th>Monthssincelastdelinquent</th>\n",
       "      <th>NumberofOpenAccounts</th>\n",
       "      <th>NumberofCreditProblems</th>\n",
       "      <th>CurrentCreditBalance</th>\n",
       "      <th>MaximumOpenCredit</th>\n",
       "      <th>Bankruptcies</th>\n",
       "      <th>TaxLiens</th>\n",
       "      <th>LoanStatus</th>\n",
       "      <th>term</th>\n",
       "      <th>homeownership</th>\n",
       "      <th>purpose</th>\n",
       "    </tr>\n",
       "  </thead>\n",
       "  <tbody>\n",
       "    <tr>\n",
       "      <th>0</th>\n",
       "      <td>0</td>\n",
       "      <td>17879</td>\n",
       "      <td>739.0</td>\n",
       "      <td>6 years</td>\n",
       "      <td>95357.0</td>\n",
       "      <td>1509.82</td>\n",
       "      <td>34.4</td>\n",
       "      <td>5.0</td>\n",
       "      <td>26</td>\n",
       "      <td>0</td>\n",
       "      <td>23986</td>\n",
       "      <td>40313</td>\n",
       "      <td>0.0</td>\n",
       "      <td>0.0</td>\n",
       "      <td>1</td>\n",
       "      <td>1</td>\n",
       "      <td>1</td>\n",
       "      <td>3</td>\n",
       "    </tr>\n",
       "    <tr>\n",
       "      <th>1</th>\n",
       "      <td>1</td>\n",
       "      <td>99999999</td>\n",
       "      <td>619.0</td>\n",
       "      <td>6 years</td>\n",
       "      <td>54406.0</td>\n",
       "      <td>1065.45</td>\n",
       "      <td>12.7</td>\n",
       "      <td>NaN</td>\n",
       "      <td>8</td>\n",
       "      <td>0</td>\n",
       "      <td>22938</td>\n",
       "      <td>31250</td>\n",
       "      <td>0.0</td>\n",
       "      <td>0.0</td>\n",
       "      <td>1</td>\n",
       "      <td>0</td>\n",
       "      <td>3</td>\n",
       "      <td>3</td>\n",
       "    </tr>\n",
       "    <tr>\n",
       "      <th>2</th>\n",
       "      <td>3</td>\n",
       "      <td>99999999</td>\n",
       "      <td>738.0</td>\n",
       "      <td>less than  1 year</td>\n",
       "      <td>40480.0</td>\n",
       "      <td>573.47</td>\n",
       "      <td>32.7</td>\n",
       "      <td>60.0</td>\n",
       "      <td>9</td>\n",
       "      <td>1</td>\n",
       "      <td>3963</td>\n",
       "      <td>5669</td>\n",
       "      <td>1.0</td>\n",
       "      <td>0.0</td>\n",
       "      <td>1</td>\n",
       "      <td>1</td>\n",
       "      <td>3</td>\n",
       "      <td>6</td>\n",
       "    </tr>\n",
       "    <tr>\n",
       "      <th>3</th>\n",
       "      <td>4</td>\n",
       "      <td>11200</td>\n",
       "      <td>738.0</td>\n",
       "      <td>4 years</td>\n",
       "      <td>53965.0</td>\n",
       "      <td>1358.11</td>\n",
       "      <td>15.8</td>\n",
       "      <td>NaN</td>\n",
       "      <td>8</td>\n",
       "      <td>1</td>\n",
       "      <td>11782</td>\n",
       "      <td>25951</td>\n",
       "      <td>1.0</td>\n",
       "      <td>0.0</td>\n",
       "      <td>1</td>\n",
       "      <td>1</td>\n",
       "      <td>3</td>\n",
       "      <td>3</td>\n",
       "    </tr>\n",
       "    <tr>\n",
       "      <th>4</th>\n",
       "      <td>5</td>\n",
       "      <td>3608</td>\n",
       "      <td>731.0</td>\n",
       "      <td>10+ years</td>\n",
       "      <td>47709.0</td>\n",
       "      <td>339.93</td>\n",
       "      <td>16.1</td>\n",
       "      <td>47.0</td>\n",
       "      <td>6</td>\n",
       "      <td>0</td>\n",
       "      <td>22909</td>\n",
       "      <td>25568</td>\n",
       "      <td>0.0</td>\n",
       "      <td>0.0</td>\n",
       "      <td>1</td>\n",
       "      <td>1</td>\n",
       "      <td>1</td>\n",
       "      <td>5</td>\n",
       "    </tr>\n",
       "  </tbody>\n",
       "</table>\n",
       "</div>"
      ],
      "text/plain": [
       "   LoanID  CurrentLoanAmount  CreditScore  Yearsincurrentjob  AnnualIncome  \\\n",
       "0       0              17879        739.0            6 years       95357.0   \n",
       "1       1           99999999        619.0            6 years       54406.0   \n",
       "2       3           99999999        738.0  less than  1 year       40480.0   \n",
       "3       4              11200        738.0            4 years       53965.0   \n",
       "4       5               3608        731.0          10+ years       47709.0   \n",
       "\n",
       "   MonthlyDebt  YearsofCreditHistory  Monthssincelastdelinquent  \\\n",
       "0      1509.82                  34.4                        5.0   \n",
       "1      1065.45                  12.7                        NaN   \n",
       "2       573.47                  32.7                       60.0   \n",
       "3      1358.11                  15.8                        NaN   \n",
       "4       339.93                  16.1                       47.0   \n",
       "\n",
       "   NumberofOpenAccounts  NumberofCreditProblems  CurrentCreditBalance  \\\n",
       "0                    26                       0                 23986   \n",
       "1                     8                       0                 22938   \n",
       "2                     9                       1                  3963   \n",
       "3                     8                       1                 11782   \n",
       "4                     6                       0                 22909   \n",
       "\n",
       "   MaximumOpenCredit  Bankruptcies  TaxLiens  LoanStatus  term  homeownership  \\\n",
       "0              40313           0.0       0.0           1     1              1   \n",
       "1              31250           0.0       0.0           1     0              3   \n",
       "2               5669           1.0       0.0           1     1              3   \n",
       "3              25951           1.0       0.0           1     1              3   \n",
       "4              25568           0.0       0.0           1     1              1   \n",
       "\n",
       "   purpose  \n",
       "0        3  \n",
       "1        3  \n",
       "2        6  \n",
       "3        3  \n",
       "4        5  "
      ]
     },
     "execution_count": 9,
     "metadata": {},
     "output_type": "execute_result"
    }
   ],
   "source": [
    "from sklearn.preprocessing import LabelEncoder\n",
    "df['term'] = LabelEncoder().fit_transform(df.Term)\n",
    "df['homeownership'] = LabelEncoder().fit_transform(df.HomeOwnership)\n",
    "df['purpose']=  LabelEncoder().fit_transform(df.Purpose)\n",
    "df1 = df.drop(['Term','HomeOwnership','Purpose'], axis=1)\n",
    "df1.head()"
   ]
  },
  {
   "cell_type": "code",
   "execution_count": 10,
   "metadata": {},
   "outputs": [],
   "source": [
    "from sklearn.preprocessing import LabelEncoder\n",
    "test['term'] = LabelEncoder().fit_transform(test.Term)\n",
    "test['homeownership'] = LabelEncoder().fit_transform(test.HomeOwnership)\n",
    "test['purpose']=  LabelEncoder().fit_transform(test.Purpose)\n",
    "test1 = df.drop(['Term','HomeOwnership','Purpose'], axis=1)\n"
   ]
  },
  {
   "cell_type": "code",
   "execution_count": 11,
   "metadata": {},
   "outputs": [],
   "source": [
    "dfn = df.drop(['Term','Yearsincurrentjob', 'HomeOwnership','Purpose'],axis=1)\n",
    "testn = test.drop(['Term','Yearsincurrentjob', 'HomeOwnership','Purpose'],axis=1)\n"
   ]
  },
  {
   "cell_type": "code",
   "execution_count": 12,
   "metadata": {},
   "outputs": [],
   "source": [
    "mean = dfn['CreditScore'].mean()\n",
    "dfn['CreditScore']=dfn['CreditScore'].fillna(mean) \n"
   ]
  },
  {
   "cell_type": "code",
   "execution_count": 13,
   "metadata": {},
   "outputs": [],
   "source": [
    "mean = testn['CreditScore'].mean()\n",
    "testn['CreditScore']=testn['CreditScore'].fillna(mean) "
   ]
  },
  {
   "cell_type": "code",
   "execution_count": 14,
   "metadata": {},
   "outputs": [],
   "source": [
    "mean = testn['AnnualIncome'].mean()\n",
    "testn['AnnualIncome']=testn['AnnualIncome'].fillna(mean) "
   ]
  },
  {
   "cell_type": "code",
   "execution_count": 15,
   "metadata": {},
   "outputs": [],
   "source": [
    "mean = dfn['AnnualIncome'].mean()\n",
    "dfn['AnnualIncome']=dfn['AnnualIncome'].fillna(mean) "
   ]
  },
  {
   "cell_type": "code",
   "execution_count": 16,
   "metadata": {},
   "outputs": [],
   "source": [
    "mean = dfn['Monthssincelastdelinquent'].mean()\n",
    "dfn['Monthssincelastdelinquent']=dfn['Monthssincelastdelinquent'].fillna(mean)"
   ]
  },
  {
   "cell_type": "code",
   "execution_count": 17,
   "metadata": {},
   "outputs": [],
   "source": [
    "mean = testn['Monthssincelastdelinquent'].mean()\n",
    "testn['Monthssincelastdelinquent']=testn['Monthssincelastdelinquent'].fillna(mean)"
   ]
  },
  {
   "cell_type": "code",
   "execution_count": 18,
   "metadata": {},
   "outputs": [],
   "source": [
    "mean = dfn['Bankruptcies'].mean()\n",
    "dfn['Bankruptcies']=dfn['Bankruptcies'].fillna(mean)"
   ]
  },
  {
   "cell_type": "code",
   "execution_count": 19,
   "metadata": {},
   "outputs": [],
   "source": [
    "mean = testn['Bankruptcies'].mean()\n",
    "testn['Bankruptcies']=testn['Bankruptcies'].fillna(mean)"
   ]
  },
  {
   "cell_type": "code",
   "execution_count": 20,
   "metadata": {},
   "outputs": [],
   "source": [
    "mean = dfn['TaxLiens'].mean()\n",
    "dfn['TaxLiens']=dfn['TaxLiens'].fillna(mean)"
   ]
  },
  {
   "cell_type": "code",
   "execution_count": 21,
   "metadata": {},
   "outputs": [],
   "source": [
    "mean = testn['TaxLiens'].mean()\n",
    "testn['TaxLiens']=testn['TaxLiens'].fillna(mean)"
   ]
  },
  {
   "cell_type": "code",
   "execution_count": 22,
   "metadata": {},
   "outputs": [],
   "source": [
    "map = {'10+ years' : 11,\n",
    "       '9 years' : 10,\n",
    "       '8 years' : 9,\n",
    "       '7 years' : 8,\n",
    "       '6 years' : 7,\n",
    "       '5 years' : 6,\n",
    "       '4 years' : 5,\n",
    "       '3 years' : 4,\n",
    "       '2 years' : 3,\n",
    "       '1 years' : 2,\n",
    "       'less than  1 year' : 1\n",
    "    \n",
    "}\n",
    "dfn['Yearsincurrentjobf'] = df.Yearsincurrentjob.map(map)"
   ]
  },
  {
   "cell_type": "code",
   "execution_count": 23,
   "metadata": {},
   "outputs": [],
   "source": [
    "map = {'10+ years' : 11,\n",
    "       '9 years' : 10,\n",
    "       '8 years' : 9,\n",
    "       '7 years' : 8,\n",
    "       '6 years' : 7,\n",
    "       '5 years' : 6,\n",
    "       '4 years' : 5,\n",
    "       '3 years' : 4,\n",
    "       '2 years' : 3,\n",
    "       '1 years' : 2,\n",
    "       'less than  1 year' : 1\n",
    "    \n",
    "}\n",
    "testn['Yearsincurrentjobf'] = test.Yearsincurrentjob.map(map)"
   ]
  },
  {
   "cell_type": "code",
   "execution_count": 24,
   "metadata": {},
   "outputs": [],
   "source": [
    "meann = dfn.Yearsincurrentjobf.mean()\n",
    "dfn['Yearsincurrentjobf']=dfn['Yearsincurrentjobf'].fillna(meann)"
   ]
  },
  {
   "cell_type": "code",
   "execution_count": 25,
   "metadata": {},
   "outputs": [],
   "source": [
    "meann = testn.Yearsincurrentjobf.mean()\n",
    "testn['Yearsincurrentjobf']=testn['Yearsincurrentjobf'].fillna(meann)"
   ]
  },
  {
   "cell_type": "code",
   "execution_count": 26,
   "metadata": {},
   "outputs": [],
   "source": [
    "from sklearn.preprocessing import MinMaxScaler\n",
    "scaling = MinMaxScaler()\n",
    "a = scaling.fit_transform(dfn)"
   ]
  },
  {
   "cell_type": "code",
   "execution_count": 27,
   "metadata": {},
   "outputs": [
    {
     "name": "stderr",
     "output_type": "stream",
     "text": [
      "C:\\Users\\Asus\\anaconda3\\lib\\site-packages\\sklearn\\preprocessing\\_data.py:375: RuntimeWarning: All-NaN slice encountered\n",
      "  data_min = np.nanmin(X, axis=0)\n",
      "C:\\Users\\Asus\\anaconda3\\lib\\site-packages\\sklearn\\preprocessing\\_data.py:376: RuntimeWarning: All-NaN slice encountered\n",
      "  data_max = np.nanmax(X, axis=0)\n"
     ]
    }
   ],
   "source": [
    "from sklearn.preprocessing import MinMaxScaler\n",
    "scaling = MinMaxScaler()\n",
    "A = scaling.fit_transform(testn)"
   ]
  },
  {
   "cell_type": "code",
   "execution_count": 28,
   "metadata": {},
   "outputs": [],
   "source": [
    "dfnorm = pd.DataFrame(a)"
   ]
  },
  {
   "cell_type": "code",
   "execution_count": 29,
   "metadata": {},
   "outputs": [],
   "source": [
    "testnorm = pd.DataFrame(A)\n"
   ]
  },
  {
   "cell_type": "code",
   "execution_count": 30,
   "metadata": {},
   "outputs": [],
   "source": [
    "dfn = dfn.drop('LoanID',axis=1)\n",
    "dfnorm = dfnorm.drop(0,axis=1)"
   ]
  },
  {
   "cell_type": "code",
   "execution_count": 31,
   "metadata": {},
   "outputs": [],
   "source": [
    "testn = testn.drop('LoanID',axis=1)\n",
    "testnorm = testnorm.drop(0,axis=1)"
   ]
  },
  {
   "cell_type": "code",
   "execution_count": 32,
   "metadata": {},
   "outputs": [],
   "source": [
    "dfg = dfn.drop('NumberofCreditProblems', axis=1)\n",
    "dfgg = dfg.drop('LoanStatus',axis=1)"
   ]
  },
  {
   "cell_type": "code",
   "execution_count": 33,
   "metadata": {},
   "outputs": [],
   "source": [
    "testg = testn.drop('NumberofCreditProblems', axis=1)\n",
    "testgg = testg.drop('LoanStatus',axis=1)"
   ]
  },
  {
   "cell_type": "code",
   "execution_count": 34,
   "metadata": {},
   "outputs": [],
   "source": [
    "testy = testnorm.drop(8,axis=1)"
   ]
  },
  {
   "cell_type": "code",
   "execution_count": 35,
   "metadata": {},
   "outputs": [
    {
     "data": {
      "text/html": [
       "<div>\n",
       "<style scoped>\n",
       "    .dataframe tbody tr th:only-of-type {\n",
       "        vertical-align: middle;\n",
       "    }\n",
       "\n",
       "    .dataframe tbody tr th {\n",
       "        vertical-align: top;\n",
       "    }\n",
       "\n",
       "    .dataframe thead th {\n",
       "        text-align: right;\n",
       "    }\n",
       "</style>\n",
       "<table border=\"1\" class=\"dataframe\">\n",
       "  <thead>\n",
       "    <tr style=\"text-align: right;\">\n",
       "      <th></th>\n",
       "      <th>1</th>\n",
       "      <th>2</th>\n",
       "      <th>3</th>\n",
       "      <th>4</th>\n",
       "      <th>5</th>\n",
       "      <th>6</th>\n",
       "      <th>7</th>\n",
       "      <th>9</th>\n",
       "      <th>10</th>\n",
       "      <th>11</th>\n",
       "      <th>12</th>\n",
       "      <th>13</th>\n",
       "      <th>14</th>\n",
       "      <th>15</th>\n",
       "      <th>16</th>\n",
       "      <th>17</th>\n",
       "    </tr>\n",
       "  </thead>\n",
       "  <tbody>\n",
       "    <tr>\n",
       "      <th>0</th>\n",
       "      <td>0.000174</td>\n",
       "      <td>0.022238</td>\n",
       "      <td>0.010459</td>\n",
       "      <td>0.166631</td>\n",
       "      <td>0.541301</td>\n",
       "      <td>0.028409</td>\n",
       "      <td>0.342105</td>\n",
       "      <td>0.028067</td>\n",
       "      <td>0.001111</td>\n",
       "      <td>0.000000</td>\n",
       "      <td>0.0</td>\n",
       "      <td>1.0</td>\n",
       "      <td>1.0</td>\n",
       "      <td>0.333333</td>\n",
       "      <td>0.200000</td>\n",
       "      <td>0.6</td>\n",
       "    </tr>\n",
       "    <tr>\n",
       "      <th>1</th>\n",
       "      <td>1.000000</td>\n",
       "      <td>0.004910</td>\n",
       "      <td>0.005757</td>\n",
       "      <td>0.117588</td>\n",
       "      <td>0.159930</td>\n",
       "      <td>0.198065</td>\n",
       "      <td>0.105263</td>\n",
       "      <td>0.026841</td>\n",
       "      <td>0.000861</td>\n",
       "      <td>0.000000</td>\n",
       "      <td>0.0</td>\n",
       "      <td>1.0</td>\n",
       "      <td>0.0</td>\n",
       "      <td>1.000000</td>\n",
       "      <td>0.200000</td>\n",
       "      <td>0.6</td>\n",
       "    </tr>\n",
       "    <tr>\n",
       "      <th>2</th>\n",
       "      <td>1.000000</td>\n",
       "      <td>0.022094</td>\n",
       "      <td>0.004158</td>\n",
       "      <td>0.063291</td>\n",
       "      <td>0.511424</td>\n",
       "      <td>0.340909</td>\n",
       "      <td>0.118421</td>\n",
       "      <td>0.004637</td>\n",
       "      <td>0.000156</td>\n",
       "      <td>0.166667</td>\n",
       "      <td>0.0</td>\n",
       "      <td>1.0</td>\n",
       "      <td>1.0</td>\n",
       "      <td>1.000000</td>\n",
       "      <td>0.400000</td>\n",
       "      <td>0.0</td>\n",
       "    </tr>\n",
       "    <tr>\n",
       "      <th>3</th>\n",
       "      <td>0.000107</td>\n",
       "      <td>0.022094</td>\n",
       "      <td>0.005706</td>\n",
       "      <td>0.149888</td>\n",
       "      <td>0.214411</td>\n",
       "      <td>0.198065</td>\n",
       "      <td>0.105263</td>\n",
       "      <td>0.013787</td>\n",
       "      <td>0.000715</td>\n",
       "      <td>0.166667</td>\n",
       "      <td>0.0</td>\n",
       "      <td>1.0</td>\n",
       "      <td>1.0</td>\n",
       "      <td>1.000000</td>\n",
       "      <td>0.200000</td>\n",
       "      <td>0.4</td>\n",
       "    </tr>\n",
       "    <tr>\n",
       "      <th>4</th>\n",
       "      <td>0.000031</td>\n",
       "      <td>0.021083</td>\n",
       "      <td>0.004988</td>\n",
       "      <td>0.037516</td>\n",
       "      <td>0.219684</td>\n",
       "      <td>0.267045</td>\n",
       "      <td>0.078947</td>\n",
       "      <td>0.026807</td>\n",
       "      <td>0.000705</td>\n",
       "      <td>0.000000</td>\n",
       "      <td>0.0</td>\n",
       "      <td>1.0</td>\n",
       "      <td>1.0</td>\n",
       "      <td>0.333333</td>\n",
       "      <td>0.333333</td>\n",
       "      <td>1.0</td>\n",
       "    </tr>\n",
       "  </tbody>\n",
       "</table>\n",
       "</div>"
      ],
      "text/plain": [
       "         1         2         3         4         5         6         7   \\\n",
       "0  0.000174  0.022238  0.010459  0.166631  0.541301  0.028409  0.342105   \n",
       "1  1.000000  0.004910  0.005757  0.117588  0.159930  0.198065  0.105263   \n",
       "2  1.000000  0.022094  0.004158  0.063291  0.511424  0.340909  0.118421   \n",
       "3  0.000107  0.022094  0.005706  0.149888  0.214411  0.198065  0.105263   \n",
       "4  0.000031  0.021083  0.004988  0.037516  0.219684  0.267045  0.078947   \n",
       "\n",
       "         9         10        11   12   13   14        15        16   17  \n",
       "0  0.028067  0.001111  0.000000  0.0  1.0  1.0  0.333333  0.200000  0.6  \n",
       "1  0.026841  0.000861  0.000000  0.0  1.0  0.0  1.000000  0.200000  0.6  \n",
       "2  0.004637  0.000156  0.166667  0.0  1.0  1.0  1.000000  0.400000  0.0  \n",
       "3  0.013787  0.000715  0.166667  0.0  1.0  1.0  1.000000  0.200000  0.4  \n",
       "4  0.026807  0.000705  0.000000  0.0  1.0  1.0  0.333333  0.333333  1.0  "
      ]
     },
     "execution_count": 35,
     "metadata": {},
     "output_type": "execute_result"
    }
   ],
   "source": [
    "dfy = dfnorm.drop(8,axis =1)\n",
    "dfy.head()"
   ]
  },
  {
   "cell_type": "code",
   "execution_count": 36,
   "metadata": {},
   "outputs": [],
   "source": [
    "\n",
    "from sklearn.model_selection import cross_val_score\n",
    "from sklearn.tree import DecisionTreeClassifier\n",
    "clf = DecisionTreeClassifier(random_state=0)\n",
    "\n",
    "cross_val_score(clf,dfy.drop(13,axis=1), dfg.LoanStatus, cv=10)"
   ]
  },
  {
   "cell_type": "code",
   "execution_count": 37,
   "metadata": {},
   "outputs": [],
   "source": [
    "from sklearn.ensemble import RandomForestClassifier\n",
    "d = RandomForestClassifier()\n",
    "cross_val_score(d,dfy.drop(13,axis=1), dfg.LoanStatus, cv=2)"
   ]
  },
  {
   "cell_type": "code",
   "execution_count": 38,
   "metadata": {},
   "outputs": [],
   "source": [
    "\n",
    "from sklearn.metrics import classification_report, confusion_matrix\n",
    "from sklearn.ensemble import GradientBoostingClassifier"
   ]
  },
  {
   "cell_type": "code",
   "execution_count": 39,
   "metadata": {},
   "outputs": [],
   "source": [
    "learning_rates = [0.05, 0.1, 0.25, 0.5, 0.75, 1]\n",
    "for learning_rate in learning_rates:\n",
    "    gb = GradientBoostingClassifier(n_estimators=40, learning_rate = learning_rate, max_features=2, max_depth = 2, random_state = 0)\n",
    "   "
   ]
  },
  {
   "cell_type": "code",
   "execution_count": 40,
   "metadata": {},
   "outputs": [
    {
     "data": {
      "text/plain": [
       "array([0.80708823, 0.80593701, 0.80297673, 0.80881506, 0.81241776])"
      ]
     },
     "execution_count": 40,
     "metadata": {},
     "output_type": "execute_result"
    }
   ],
   "source": [
    "cross_val_score(gb,dfy.drop(13,axis=1), dfg.LoanStatus, cv=5)"
   ]
  },
  {
   "cell_type": "code",
   "execution_count": 40,
   "metadata": {},
   "outputs": [],
   "source": [
    "from sklearn.ensemble import AdaBoostRegressor\n",
    "model = AdaBoostRegressor(d,n_estimators=200)\n",
    "\n",
    "\n",
    "cross_val_score(model,dfn.drop('LoanStatus',axis=1), dfn.LoanStatus, cv=10)"
   ]
  },
  {
   "cell_type": "code",
   "execution_count": 42,
   "metadata": {},
   "outputs": [],
   "source": [
    "from sklearn.ensemble import AdaBoostClassifier\n",
    "h1 = AdaBoostClassifier(d,n_estimators=200)\n",
    "\n"
   ]
  },
  {
   "cell_type": "code",
   "execution_count": 73,
   "metadata": {},
   "outputs": [
    {
     "data": {
      "text/plain": [
       "8.08384361"
      ]
     },
     "execution_count": 73,
     "metadata": {},
     "output_type": "execute_result"
    }
   ],
   "source": [
    "0.80595297+ 0.81187305+ 0.80365072+ 0.80940635+ 0.80805921+0.80345395+ 0.80690789+ 0.81085526+ 0.80608553+0.81759868"
   ]
  },
  {
   "cell_type": "code",
   "execution_count": null,
   "metadata": {},
   "outputs": [],
   "source": [
    "0.80914009+ 0.80568666+ 0.80693069+ 0.80589454+0.80773659+0.80969376+0.814414 "
   ]
  },
  {
   "cell_type": "code",
   "execution_count": 53,
   "metadata": {},
   "outputs": [],
   "source": [
    "h = AdaBoostClassifier(DecisionTreeClassifier(max_depth=1),n_estimators=200)\n",
    "\n",
    "cross_val_score(h,da.drop(13,axis=1), dfg.LoanStatus, cv=7)"
   ]
  },
  {
   "cell_type": "code",
   "execution_count": 43,
   "metadata": {},
   "outputs": [
    {
     "data": {
      "text/html": [
       "<div>\n",
       "<style scoped>\n",
       "    .dataframe tbody tr th:only-of-type {\n",
       "        vertical-align: middle;\n",
       "    }\n",
       "\n",
       "    .dataframe tbody tr th {\n",
       "        vertical-align: top;\n",
       "    }\n",
       "\n",
       "    .dataframe thead th {\n",
       "        text-align: right;\n",
       "    }\n",
       "</style>\n",
       "<table border=\"1\" class=\"dataframe\">\n",
       "  <thead>\n",
       "    <tr style=\"text-align: right;\">\n",
       "      <th></th>\n",
       "      <th>CurrentLoanAmount</th>\n",
       "      <th>CreditScore</th>\n",
       "      <th>AnnualIncome</th>\n",
       "      <th>MonthlyDebt</th>\n",
       "      <th>YearsofCreditHistory</th>\n",
       "      <th>Monthssincelastdelinquent</th>\n",
       "      <th>NumberofOpenAccounts</th>\n",
       "      <th>CurrentCreditBalance</th>\n",
       "      <th>MaximumOpenCredit</th>\n",
       "      <th>Bankruptcies</th>\n",
       "      <th>TaxLiens</th>\n",
       "      <th>LoanStatus</th>\n",
       "      <th>term</th>\n",
       "      <th>homeownership</th>\n",
       "      <th>purpose</th>\n",
       "      <th>Yearsincurrentjobf</th>\n",
       "    </tr>\n",
       "  </thead>\n",
       "  <tbody>\n",
       "    <tr>\n",
       "      <th>0</th>\n",
       "      <td>17879</td>\n",
       "      <td>739.0</td>\n",
       "      <td>95357.0</td>\n",
       "      <td>1509.82</td>\n",
       "      <td>34.4</td>\n",
       "      <td>5.000000</td>\n",
       "      <td>26</td>\n",
       "      <td>23986</td>\n",
       "      <td>40313</td>\n",
       "      <td>0.0</td>\n",
       "      <td>0.0</td>\n",
       "      <td>1</td>\n",
       "      <td>1</td>\n",
       "      <td>1</td>\n",
       "      <td>3</td>\n",
       "      <td>7.0</td>\n",
       "    </tr>\n",
       "    <tr>\n",
       "      <th>1</th>\n",
       "      <td>99999999</td>\n",
       "      <td>619.0</td>\n",
       "      <td>54406.0</td>\n",
       "      <td>1065.45</td>\n",
       "      <td>12.7</td>\n",
       "      <td>34.859402</td>\n",
       "      <td>8</td>\n",
       "      <td>22938</td>\n",
       "      <td>31250</td>\n",
       "      <td>0.0</td>\n",
       "      <td>0.0</td>\n",
       "      <td>1</td>\n",
       "      <td>0</td>\n",
       "      <td>3</td>\n",
       "      <td>3</td>\n",
       "      <td>7.0</td>\n",
       "    </tr>\n",
       "    <tr>\n",
       "      <th>2</th>\n",
       "      <td>99999999</td>\n",
       "      <td>738.0</td>\n",
       "      <td>40480.0</td>\n",
       "      <td>573.47</td>\n",
       "      <td>32.7</td>\n",
       "      <td>60.000000</td>\n",
       "      <td>9</td>\n",
       "      <td>3963</td>\n",
       "      <td>5669</td>\n",
       "      <td>1.0</td>\n",
       "      <td>0.0</td>\n",
       "      <td>1</td>\n",
       "      <td>1</td>\n",
       "      <td>3</td>\n",
       "      <td>6</td>\n",
       "      <td>1.0</td>\n",
       "    </tr>\n",
       "    <tr>\n",
       "      <th>3</th>\n",
       "      <td>11200</td>\n",
       "      <td>738.0</td>\n",
       "      <td>53965.0</td>\n",
       "      <td>1358.11</td>\n",
       "      <td>15.8</td>\n",
       "      <td>34.859402</td>\n",
       "      <td>8</td>\n",
       "      <td>11782</td>\n",
       "      <td>25951</td>\n",
       "      <td>1.0</td>\n",
       "      <td>0.0</td>\n",
       "      <td>1</td>\n",
       "      <td>1</td>\n",
       "      <td>3</td>\n",
       "      <td>3</td>\n",
       "      <td>5.0</td>\n",
       "    </tr>\n",
       "    <tr>\n",
       "      <th>4</th>\n",
       "      <td>3608</td>\n",
       "      <td>731.0</td>\n",
       "      <td>47709.0</td>\n",
       "      <td>339.93</td>\n",
       "      <td>16.1</td>\n",
       "      <td>47.000000</td>\n",
       "      <td>6</td>\n",
       "      <td>22909</td>\n",
       "      <td>25568</td>\n",
       "      <td>0.0</td>\n",
       "      <td>0.0</td>\n",
       "      <td>1</td>\n",
       "      <td>1</td>\n",
       "      <td>1</td>\n",
       "      <td>5</td>\n",
       "      <td>11.0</td>\n",
       "    </tr>\n",
       "  </tbody>\n",
       "</table>\n",
       "</div>"
      ],
      "text/plain": [
       "   CurrentLoanAmount  CreditScore  AnnualIncome  MonthlyDebt  \\\n",
       "0              17879        739.0       95357.0      1509.82   \n",
       "1           99999999        619.0       54406.0      1065.45   \n",
       "2           99999999        738.0       40480.0       573.47   \n",
       "3              11200        738.0       53965.0      1358.11   \n",
       "4               3608        731.0       47709.0       339.93   \n",
       "\n",
       "   YearsofCreditHistory  Monthssincelastdelinquent  NumberofOpenAccounts  \\\n",
       "0                  34.4                   5.000000                    26   \n",
       "1                  12.7                  34.859402                     8   \n",
       "2                  32.7                  60.000000                     9   \n",
       "3                  15.8                  34.859402                     8   \n",
       "4                  16.1                  47.000000                     6   \n",
       "\n",
       "   CurrentCreditBalance  MaximumOpenCredit  Bankruptcies  TaxLiens  \\\n",
       "0                 23986              40313           0.0       0.0   \n",
       "1                 22938              31250           0.0       0.0   \n",
       "2                  3963               5669           1.0       0.0   \n",
       "3                 11782              25951           1.0       0.0   \n",
       "4                 22909              25568           0.0       0.0   \n",
       "\n",
       "   LoanStatus  term  homeownership  purpose  Yearsincurrentjobf  \n",
       "0           1     1              1        3                 7.0  \n",
       "1           1     0              3        3                 7.0  \n",
       "2           1     1              3        6                 1.0  \n",
       "3           1     1              3        3                 5.0  \n",
       "4           1     1              1        5                11.0  "
      ]
     },
     "execution_count": 43,
     "metadata": {},
     "output_type": "execute_result"
    }
   ],
   "source": [
    "dfg.head()"
   ]
  },
  {
   "cell_type": "code",
   "execution_count": 44,
   "metadata": {},
   "outputs": [
    {
     "data": {
      "text/html": [
       "<div>\n",
       "<style scoped>\n",
       "    .dataframe tbody tr th:only-of-type {\n",
       "        vertical-align: middle;\n",
       "    }\n",
       "\n",
       "    .dataframe tbody tr th {\n",
       "        vertical-align: top;\n",
       "    }\n",
       "\n",
       "    .dataframe thead th {\n",
       "        text-align: right;\n",
       "    }\n",
       "</style>\n",
       "<table border=\"1\" class=\"dataframe\">\n",
       "  <thead>\n",
       "    <tr style=\"text-align: right;\">\n",
       "      <th></th>\n",
       "      <th>CurrentLoanAmount</th>\n",
       "      <th>CreditScore</th>\n",
       "      <th>AnnualIncome</th>\n",
       "      <th>MonthlyDebt</th>\n",
       "      <th>YearsofCreditHistory</th>\n",
       "      <th>Monthssincelastdelinquent</th>\n",
       "      <th>NumberofOpenAccounts</th>\n",
       "      <th>NumberofCreditProblems</th>\n",
       "      <th>CurrentCreditBalance</th>\n",
       "      <th>MaximumOpenCredit</th>\n",
       "      <th>Bankruptcies</th>\n",
       "      <th>TaxLiens</th>\n",
       "      <th>LoanStatus</th>\n",
       "      <th>term</th>\n",
       "      <th>homeownership</th>\n",
       "      <th>purpose</th>\n",
       "      <th>Yearsincurrentjobf</th>\n",
       "    </tr>\n",
       "  </thead>\n",
       "  <tbody>\n",
       "    <tr>\n",
       "      <th>0</th>\n",
       "      <td>17879</td>\n",
       "      <td>739.0</td>\n",
       "      <td>95357.0</td>\n",
       "      <td>1509.82</td>\n",
       "      <td>34.4</td>\n",
       "      <td>5.000000</td>\n",
       "      <td>26</td>\n",
       "      <td>0</td>\n",
       "      <td>23986</td>\n",
       "      <td>40313</td>\n",
       "      <td>0.0</td>\n",
       "      <td>0.0</td>\n",
       "      <td>1</td>\n",
       "      <td>1</td>\n",
       "      <td>1</td>\n",
       "      <td>3</td>\n",
       "      <td>7.0</td>\n",
       "    </tr>\n",
       "    <tr>\n",
       "      <th>1</th>\n",
       "      <td>99999999</td>\n",
       "      <td>619.0</td>\n",
       "      <td>54406.0</td>\n",
       "      <td>1065.45</td>\n",
       "      <td>12.7</td>\n",
       "      <td>34.859402</td>\n",
       "      <td>8</td>\n",
       "      <td>0</td>\n",
       "      <td>22938</td>\n",
       "      <td>31250</td>\n",
       "      <td>0.0</td>\n",
       "      <td>0.0</td>\n",
       "      <td>1</td>\n",
       "      <td>0</td>\n",
       "      <td>3</td>\n",
       "      <td>3</td>\n",
       "      <td>7.0</td>\n",
       "    </tr>\n",
       "    <tr>\n",
       "      <th>2</th>\n",
       "      <td>99999999</td>\n",
       "      <td>738.0</td>\n",
       "      <td>40480.0</td>\n",
       "      <td>573.47</td>\n",
       "      <td>32.7</td>\n",
       "      <td>60.000000</td>\n",
       "      <td>9</td>\n",
       "      <td>1</td>\n",
       "      <td>3963</td>\n",
       "      <td>5669</td>\n",
       "      <td>1.0</td>\n",
       "      <td>0.0</td>\n",
       "      <td>1</td>\n",
       "      <td>1</td>\n",
       "      <td>3</td>\n",
       "      <td>6</td>\n",
       "      <td>1.0</td>\n",
       "    </tr>\n",
       "    <tr>\n",
       "      <th>3</th>\n",
       "      <td>11200</td>\n",
       "      <td>738.0</td>\n",
       "      <td>53965.0</td>\n",
       "      <td>1358.11</td>\n",
       "      <td>15.8</td>\n",
       "      <td>34.859402</td>\n",
       "      <td>8</td>\n",
       "      <td>1</td>\n",
       "      <td>11782</td>\n",
       "      <td>25951</td>\n",
       "      <td>1.0</td>\n",
       "      <td>0.0</td>\n",
       "      <td>1</td>\n",
       "      <td>1</td>\n",
       "      <td>3</td>\n",
       "      <td>3</td>\n",
       "      <td>5.0</td>\n",
       "    </tr>\n",
       "    <tr>\n",
       "      <th>4</th>\n",
       "      <td>3608</td>\n",
       "      <td>731.0</td>\n",
       "      <td>47709.0</td>\n",
       "      <td>339.93</td>\n",
       "      <td>16.1</td>\n",
       "      <td>47.000000</td>\n",
       "      <td>6</td>\n",
       "      <td>0</td>\n",
       "      <td>22909</td>\n",
       "      <td>25568</td>\n",
       "      <td>0.0</td>\n",
       "      <td>0.0</td>\n",
       "      <td>1</td>\n",
       "      <td>1</td>\n",
       "      <td>1</td>\n",
       "      <td>5</td>\n",
       "      <td>11.0</td>\n",
       "    </tr>\n",
       "  </tbody>\n",
       "</table>\n",
       "</div>"
      ],
      "text/plain": [
       "   CurrentLoanAmount  CreditScore  AnnualIncome  MonthlyDebt  \\\n",
       "0              17879        739.0       95357.0      1509.82   \n",
       "1           99999999        619.0       54406.0      1065.45   \n",
       "2           99999999        738.0       40480.0       573.47   \n",
       "3              11200        738.0       53965.0      1358.11   \n",
       "4               3608        731.0       47709.0       339.93   \n",
       "\n",
       "   YearsofCreditHistory  Monthssincelastdelinquent  NumberofOpenAccounts  \\\n",
       "0                  34.4                   5.000000                    26   \n",
       "1                  12.7                  34.859402                     8   \n",
       "2                  32.7                  60.000000                     9   \n",
       "3                  15.8                  34.859402                     8   \n",
       "4                  16.1                  47.000000                     6   \n",
       "\n",
       "   NumberofCreditProblems  CurrentCreditBalance  MaximumOpenCredit  \\\n",
       "0                       0                 23986              40313   \n",
       "1                       0                 22938              31250   \n",
       "2                       1                  3963               5669   \n",
       "3                       1                 11782              25951   \n",
       "4                       0                 22909              25568   \n",
       "\n",
       "   Bankruptcies  TaxLiens  LoanStatus  term  homeownership  purpose  \\\n",
       "0           0.0       0.0           1     1              1        3   \n",
       "1           0.0       0.0           1     0              3        3   \n",
       "2           1.0       0.0           1     1              3        6   \n",
       "3           1.0       0.0           1     1              3        3   \n",
       "4           0.0       0.0           1     1              1        5   \n",
       "\n",
       "   Yearsincurrentjobf  \n",
       "0                 7.0  \n",
       "1                 7.0  \n",
       "2                 1.0  \n",
       "3                 5.0  \n",
       "4                11.0  "
      ]
     },
     "execution_count": 44,
     "metadata": {},
     "output_type": "execute_result"
    }
   ],
   "source": [
    "dfn.head()"
   ]
  },
  {
   "cell_type": "code",
   "execution_count": 45,
   "metadata": {},
   "outputs": [
    {
     "data": {
      "text/html": [
       "<div>\n",
       "<style scoped>\n",
       "    .dataframe tbody tr th:only-of-type {\n",
       "        vertical-align: middle;\n",
       "    }\n",
       "\n",
       "    .dataframe tbody tr th {\n",
       "        vertical-align: top;\n",
       "    }\n",
       "\n",
       "    .dataframe thead th {\n",
       "        text-align: right;\n",
       "    }\n",
       "</style>\n",
       "<table border=\"1\" class=\"dataframe\">\n",
       "  <thead>\n",
       "    <tr style=\"text-align: right;\">\n",
       "      <th></th>\n",
       "      <th>1</th>\n",
       "      <th>2</th>\n",
       "      <th>3</th>\n",
       "      <th>4</th>\n",
       "      <th>5</th>\n",
       "      <th>6</th>\n",
       "      <th>7</th>\n",
       "      <th>8</th>\n",
       "      <th>9</th>\n",
       "      <th>10</th>\n",
       "      <th>11</th>\n",
       "      <th>12</th>\n",
       "      <th>13</th>\n",
       "      <th>14</th>\n",
       "      <th>15</th>\n",
       "      <th>16</th>\n",
       "      <th>17</th>\n",
       "    </tr>\n",
       "  </thead>\n",
       "  <tbody>\n",
       "    <tr>\n",
       "      <th>0</th>\n",
       "      <td>0.000174</td>\n",
       "      <td>0.022238</td>\n",
       "      <td>0.010459</td>\n",
       "      <td>0.166631</td>\n",
       "      <td>0.541301</td>\n",
       "      <td>0.028409</td>\n",
       "      <td>0.342105</td>\n",
       "      <td>0.000000</td>\n",
       "      <td>0.028067</td>\n",
       "      <td>0.001111</td>\n",
       "      <td>0.000000</td>\n",
       "      <td>0.0</td>\n",
       "      <td>1.0</td>\n",
       "      <td>1.0</td>\n",
       "      <td>0.333333</td>\n",
       "      <td>0.200000</td>\n",
       "      <td>0.6</td>\n",
       "    </tr>\n",
       "    <tr>\n",
       "      <th>1</th>\n",
       "      <td>1.000000</td>\n",
       "      <td>0.004910</td>\n",
       "      <td>0.005757</td>\n",
       "      <td>0.117588</td>\n",
       "      <td>0.159930</td>\n",
       "      <td>0.198065</td>\n",
       "      <td>0.105263</td>\n",
       "      <td>0.000000</td>\n",
       "      <td>0.026841</td>\n",
       "      <td>0.000861</td>\n",
       "      <td>0.000000</td>\n",
       "      <td>0.0</td>\n",
       "      <td>1.0</td>\n",
       "      <td>0.0</td>\n",
       "      <td>1.000000</td>\n",
       "      <td>0.200000</td>\n",
       "      <td>0.6</td>\n",
       "    </tr>\n",
       "    <tr>\n",
       "      <th>2</th>\n",
       "      <td>1.000000</td>\n",
       "      <td>0.022094</td>\n",
       "      <td>0.004158</td>\n",
       "      <td>0.063291</td>\n",
       "      <td>0.511424</td>\n",
       "      <td>0.340909</td>\n",
       "      <td>0.118421</td>\n",
       "      <td>0.066667</td>\n",
       "      <td>0.004637</td>\n",
       "      <td>0.000156</td>\n",
       "      <td>0.166667</td>\n",
       "      <td>0.0</td>\n",
       "      <td>1.0</td>\n",
       "      <td>1.0</td>\n",
       "      <td>1.000000</td>\n",
       "      <td>0.400000</td>\n",
       "      <td>0.0</td>\n",
       "    </tr>\n",
       "    <tr>\n",
       "      <th>3</th>\n",
       "      <td>0.000107</td>\n",
       "      <td>0.022094</td>\n",
       "      <td>0.005706</td>\n",
       "      <td>0.149888</td>\n",
       "      <td>0.214411</td>\n",
       "      <td>0.198065</td>\n",
       "      <td>0.105263</td>\n",
       "      <td>0.066667</td>\n",
       "      <td>0.013787</td>\n",
       "      <td>0.000715</td>\n",
       "      <td>0.166667</td>\n",
       "      <td>0.0</td>\n",
       "      <td>1.0</td>\n",
       "      <td>1.0</td>\n",
       "      <td>1.000000</td>\n",
       "      <td>0.200000</td>\n",
       "      <td>0.4</td>\n",
       "    </tr>\n",
       "    <tr>\n",
       "      <th>4</th>\n",
       "      <td>0.000031</td>\n",
       "      <td>0.021083</td>\n",
       "      <td>0.004988</td>\n",
       "      <td>0.037516</td>\n",
       "      <td>0.219684</td>\n",
       "      <td>0.267045</td>\n",
       "      <td>0.078947</td>\n",
       "      <td>0.000000</td>\n",
       "      <td>0.026807</td>\n",
       "      <td>0.000705</td>\n",
       "      <td>0.000000</td>\n",
       "      <td>0.0</td>\n",
       "      <td>1.0</td>\n",
       "      <td>1.0</td>\n",
       "      <td>0.333333</td>\n",
       "      <td>0.333333</td>\n",
       "      <td>1.0</td>\n",
       "    </tr>\n",
       "  </tbody>\n",
       "</table>\n",
       "</div>"
      ],
      "text/plain": [
       "         1         2         3         4         5         6         7   \\\n",
       "0  0.000174  0.022238  0.010459  0.166631  0.541301  0.028409  0.342105   \n",
       "1  1.000000  0.004910  0.005757  0.117588  0.159930  0.198065  0.105263   \n",
       "2  1.000000  0.022094  0.004158  0.063291  0.511424  0.340909  0.118421   \n",
       "3  0.000107  0.022094  0.005706  0.149888  0.214411  0.198065  0.105263   \n",
       "4  0.000031  0.021083  0.004988  0.037516  0.219684  0.267045  0.078947   \n",
       "\n",
       "         8         9         10        11   12   13   14        15        16  \\\n",
       "0  0.000000  0.028067  0.001111  0.000000  0.0  1.0  1.0  0.333333  0.200000   \n",
       "1  0.000000  0.026841  0.000861  0.000000  0.0  1.0  0.0  1.000000  0.200000   \n",
       "2  0.066667  0.004637  0.000156  0.166667  0.0  1.0  1.0  1.000000  0.400000   \n",
       "3  0.066667  0.013787  0.000715  0.166667  0.0  1.0  1.0  1.000000  0.200000   \n",
       "4  0.000000  0.026807  0.000705  0.000000  0.0  1.0  1.0  0.333333  0.333333   \n",
       "\n",
       "    17  \n",
       "0  0.6  \n",
       "1  0.6  \n",
       "2  0.0  \n",
       "3  0.4  \n",
       "4  1.0  "
      ]
     },
     "execution_count": 45,
     "metadata": {},
     "output_type": "execute_result"
    }
   ],
   "source": [
    "dfnorm.head()"
   ]
  },
  {
   "cell_type": "code",
   "execution_count": 46,
   "metadata": {},
   "outputs": [
    {
     "data": {
      "text/html": [
       "<div>\n",
       "<style scoped>\n",
       "    .dataframe tbody tr th:only-of-type {\n",
       "        vertical-align: middle;\n",
       "    }\n",
       "\n",
       "    .dataframe tbody tr th {\n",
       "        vertical-align: top;\n",
       "    }\n",
       "\n",
       "    .dataframe thead th {\n",
       "        text-align: right;\n",
       "    }\n",
       "</style>\n",
       "<table border=\"1\" class=\"dataframe\">\n",
       "  <thead>\n",
       "    <tr style=\"text-align: right;\">\n",
       "      <th></th>\n",
       "      <th>1</th>\n",
       "      <th>2</th>\n",
       "      <th>3</th>\n",
       "      <th>4</th>\n",
       "      <th>5</th>\n",
       "      <th>6</th>\n",
       "      <th>7</th>\n",
       "      <th>9</th>\n",
       "      <th>10</th>\n",
       "      <th>11</th>\n",
       "      <th>12</th>\n",
       "      <th>13</th>\n",
       "      <th>14</th>\n",
       "      <th>15</th>\n",
       "      <th>16</th>\n",
       "      <th>17</th>\n",
       "    </tr>\n",
       "  </thead>\n",
       "  <tbody>\n",
       "    <tr>\n",
       "      <th>0</th>\n",
       "      <td>0.000174</td>\n",
       "      <td>0.022238</td>\n",
       "      <td>0.010459</td>\n",
       "      <td>0.166631</td>\n",
       "      <td>0.541301</td>\n",
       "      <td>0.028409</td>\n",
       "      <td>0.342105</td>\n",
       "      <td>0.028067</td>\n",
       "      <td>0.001111</td>\n",
       "      <td>0.000000</td>\n",
       "      <td>0.0</td>\n",
       "      <td>1.0</td>\n",
       "      <td>1.0</td>\n",
       "      <td>0.333333</td>\n",
       "      <td>0.200000</td>\n",
       "      <td>0.6</td>\n",
       "    </tr>\n",
       "    <tr>\n",
       "      <th>1</th>\n",
       "      <td>1.000000</td>\n",
       "      <td>0.004910</td>\n",
       "      <td>0.005757</td>\n",
       "      <td>0.117588</td>\n",
       "      <td>0.159930</td>\n",
       "      <td>0.198065</td>\n",
       "      <td>0.105263</td>\n",
       "      <td>0.026841</td>\n",
       "      <td>0.000861</td>\n",
       "      <td>0.000000</td>\n",
       "      <td>0.0</td>\n",
       "      <td>1.0</td>\n",
       "      <td>0.0</td>\n",
       "      <td>1.000000</td>\n",
       "      <td>0.200000</td>\n",
       "      <td>0.6</td>\n",
       "    </tr>\n",
       "    <tr>\n",
       "      <th>2</th>\n",
       "      <td>1.000000</td>\n",
       "      <td>0.022094</td>\n",
       "      <td>0.004158</td>\n",
       "      <td>0.063291</td>\n",
       "      <td>0.511424</td>\n",
       "      <td>0.340909</td>\n",
       "      <td>0.118421</td>\n",
       "      <td>0.004637</td>\n",
       "      <td>0.000156</td>\n",
       "      <td>0.166667</td>\n",
       "      <td>0.0</td>\n",
       "      <td>1.0</td>\n",
       "      <td>1.0</td>\n",
       "      <td>1.000000</td>\n",
       "      <td>0.400000</td>\n",
       "      <td>0.0</td>\n",
       "    </tr>\n",
       "    <tr>\n",
       "      <th>3</th>\n",
       "      <td>0.000107</td>\n",
       "      <td>0.022094</td>\n",
       "      <td>0.005706</td>\n",
       "      <td>0.149888</td>\n",
       "      <td>0.214411</td>\n",
       "      <td>0.198065</td>\n",
       "      <td>0.105263</td>\n",
       "      <td>0.013787</td>\n",
       "      <td>0.000715</td>\n",
       "      <td>0.166667</td>\n",
       "      <td>0.0</td>\n",
       "      <td>1.0</td>\n",
       "      <td>1.0</td>\n",
       "      <td>1.000000</td>\n",
       "      <td>0.200000</td>\n",
       "      <td>0.4</td>\n",
       "    </tr>\n",
       "    <tr>\n",
       "      <th>4</th>\n",
       "      <td>0.000031</td>\n",
       "      <td>0.021083</td>\n",
       "      <td>0.004988</td>\n",
       "      <td>0.037516</td>\n",
       "      <td>0.219684</td>\n",
       "      <td>0.267045</td>\n",
       "      <td>0.078947</td>\n",
       "      <td>0.026807</td>\n",
       "      <td>0.000705</td>\n",
       "      <td>0.000000</td>\n",
       "      <td>0.0</td>\n",
       "      <td>1.0</td>\n",
       "      <td>1.0</td>\n",
       "      <td>0.333333</td>\n",
       "      <td>0.333333</td>\n",
       "      <td>1.0</td>\n",
       "    </tr>\n",
       "  </tbody>\n",
       "</table>\n",
       "</div>"
      ],
      "text/plain": [
       "         1         2         3         4         5         6         7   \\\n",
       "0  0.000174  0.022238  0.010459  0.166631  0.541301  0.028409  0.342105   \n",
       "1  1.000000  0.004910  0.005757  0.117588  0.159930  0.198065  0.105263   \n",
       "2  1.000000  0.022094  0.004158  0.063291  0.511424  0.340909  0.118421   \n",
       "3  0.000107  0.022094  0.005706  0.149888  0.214411  0.198065  0.105263   \n",
       "4  0.000031  0.021083  0.004988  0.037516  0.219684  0.267045  0.078947   \n",
       "\n",
       "         9         10        11   12   13   14        15        16   17  \n",
       "0  0.028067  0.001111  0.000000  0.0  1.0  1.0  0.333333  0.200000  0.6  \n",
       "1  0.026841  0.000861  0.000000  0.0  1.0  0.0  1.000000  0.200000  0.6  \n",
       "2  0.004637  0.000156  0.166667  0.0  1.0  1.0  1.000000  0.400000  0.0  \n",
       "3  0.013787  0.000715  0.166667  0.0  1.0  1.0  1.000000  0.200000  0.4  \n",
       "4  0.026807  0.000705  0.000000  0.0  1.0  1.0  0.333333  0.333333  1.0  "
      ]
     },
     "execution_count": 46,
     "metadata": {},
     "output_type": "execute_result"
    }
   ],
   "source": [
    "dfy.head()"
   ]
  },
  {
   "cell_type": "code",
   "execution_count": 50,
   "metadata": {},
   "outputs": [],
   "source": [
    "da=dfn.replace(99999999,12177723)"
   ]
  },
  {
   "cell_type": "code",
   "execution_count": 49,
   "metadata": {},
   "outputs": [
    {
     "data": {
      "text/plain": [
       "12177723.496825866"
      ]
     },
     "execution_count": 49,
     "metadata": {},
     "output_type": "execute_result"
    }
   ],
   "source": [
    "dfn.CurrentLoanAmount.mean()"
   ]
  },
  {
   "cell_type": "code",
   "execution_count": 51,
   "metadata": {},
   "outputs": [
    {
     "data": {
      "text/html": [
       "<div>\n",
       "<style scoped>\n",
       "    .dataframe tbody tr th:only-of-type {\n",
       "        vertical-align: middle;\n",
       "    }\n",
       "\n",
       "    .dataframe tbody tr th {\n",
       "        vertical-align: top;\n",
       "    }\n",
       "\n",
       "    .dataframe thead th {\n",
       "        text-align: right;\n",
       "    }\n",
       "</style>\n",
       "<table border=\"1\" class=\"dataframe\">\n",
       "  <thead>\n",
       "    <tr style=\"text-align: right;\">\n",
       "      <th></th>\n",
       "      <th>CurrentLoanAmount</th>\n",
       "      <th>CreditScore</th>\n",
       "      <th>AnnualIncome</th>\n",
       "      <th>MonthlyDebt</th>\n",
       "      <th>YearsofCreditHistory</th>\n",
       "      <th>Monthssincelastdelinquent</th>\n",
       "      <th>NumberofOpenAccounts</th>\n",
       "      <th>NumberofCreditProblems</th>\n",
       "      <th>CurrentCreditBalance</th>\n",
       "      <th>MaximumOpenCredit</th>\n",
       "      <th>Bankruptcies</th>\n",
       "      <th>TaxLiens</th>\n",
       "      <th>LoanStatus</th>\n",
       "      <th>term</th>\n",
       "      <th>homeownership</th>\n",
       "      <th>purpose</th>\n",
       "      <th>Yearsincurrentjobf</th>\n",
       "    </tr>\n",
       "  </thead>\n",
       "  <tbody>\n",
       "    <tr>\n",
       "      <th>0</th>\n",
       "      <td>17879</td>\n",
       "      <td>739.0</td>\n",
       "      <td>95357.0</td>\n",
       "      <td>1509.82</td>\n",
       "      <td>34.4</td>\n",
       "      <td>5.000000</td>\n",
       "      <td>26</td>\n",
       "      <td>0</td>\n",
       "      <td>23986</td>\n",
       "      <td>40313</td>\n",
       "      <td>0.0</td>\n",
       "      <td>0.0</td>\n",
       "      <td>1</td>\n",
       "      <td>1</td>\n",
       "      <td>1</td>\n",
       "      <td>3</td>\n",
       "      <td>7.0</td>\n",
       "    </tr>\n",
       "    <tr>\n",
       "      <th>1</th>\n",
       "      <td>12177723</td>\n",
       "      <td>619.0</td>\n",
       "      <td>54406.0</td>\n",
       "      <td>1065.45</td>\n",
       "      <td>12.7</td>\n",
       "      <td>34.859402</td>\n",
       "      <td>8</td>\n",
       "      <td>0</td>\n",
       "      <td>22938</td>\n",
       "      <td>31250</td>\n",
       "      <td>0.0</td>\n",
       "      <td>0.0</td>\n",
       "      <td>1</td>\n",
       "      <td>0</td>\n",
       "      <td>3</td>\n",
       "      <td>3</td>\n",
       "      <td>7.0</td>\n",
       "    </tr>\n",
       "    <tr>\n",
       "      <th>2</th>\n",
       "      <td>12177723</td>\n",
       "      <td>738.0</td>\n",
       "      <td>40480.0</td>\n",
       "      <td>573.47</td>\n",
       "      <td>32.7</td>\n",
       "      <td>60.000000</td>\n",
       "      <td>9</td>\n",
       "      <td>1</td>\n",
       "      <td>3963</td>\n",
       "      <td>5669</td>\n",
       "      <td>1.0</td>\n",
       "      <td>0.0</td>\n",
       "      <td>1</td>\n",
       "      <td>1</td>\n",
       "      <td>3</td>\n",
       "      <td>6</td>\n",
       "      <td>1.0</td>\n",
       "    </tr>\n",
       "    <tr>\n",
       "      <th>3</th>\n",
       "      <td>11200</td>\n",
       "      <td>738.0</td>\n",
       "      <td>53965.0</td>\n",
       "      <td>1358.11</td>\n",
       "      <td>15.8</td>\n",
       "      <td>34.859402</td>\n",
       "      <td>8</td>\n",
       "      <td>1</td>\n",
       "      <td>11782</td>\n",
       "      <td>25951</td>\n",
       "      <td>1.0</td>\n",
       "      <td>0.0</td>\n",
       "      <td>1</td>\n",
       "      <td>1</td>\n",
       "      <td>3</td>\n",
       "      <td>3</td>\n",
       "      <td>5.0</td>\n",
       "    </tr>\n",
       "    <tr>\n",
       "      <th>4</th>\n",
       "      <td>3608</td>\n",
       "      <td>731.0</td>\n",
       "      <td>47709.0</td>\n",
       "      <td>339.93</td>\n",
       "      <td>16.1</td>\n",
       "      <td>47.000000</td>\n",
       "      <td>6</td>\n",
       "      <td>0</td>\n",
       "      <td>22909</td>\n",
       "      <td>25568</td>\n",
       "      <td>0.0</td>\n",
       "      <td>0.0</td>\n",
       "      <td>1</td>\n",
       "      <td>1</td>\n",
       "      <td>1</td>\n",
       "      <td>5</td>\n",
       "      <td>11.0</td>\n",
       "    </tr>\n",
       "  </tbody>\n",
       "</table>\n",
       "</div>"
      ],
      "text/plain": [
       "   CurrentLoanAmount  CreditScore  AnnualIncome  MonthlyDebt  \\\n",
       "0              17879        739.0       95357.0      1509.82   \n",
       "1           12177723        619.0       54406.0      1065.45   \n",
       "2           12177723        738.0       40480.0       573.47   \n",
       "3              11200        738.0       53965.0      1358.11   \n",
       "4               3608        731.0       47709.0       339.93   \n",
       "\n",
       "   YearsofCreditHistory  Monthssincelastdelinquent  NumberofOpenAccounts  \\\n",
       "0                  34.4                   5.000000                    26   \n",
       "1                  12.7                  34.859402                     8   \n",
       "2                  32.7                  60.000000                     9   \n",
       "3                  15.8                  34.859402                     8   \n",
       "4                  16.1                  47.000000                     6   \n",
       "\n",
       "   NumberofCreditProblems  CurrentCreditBalance  MaximumOpenCredit  \\\n",
       "0                       0                 23986              40313   \n",
       "1                       0                 22938              31250   \n",
       "2                       1                  3963               5669   \n",
       "3                       1                 11782              25951   \n",
       "4                       0                 22909              25568   \n",
       "\n",
       "   Bankruptcies  TaxLiens  LoanStatus  term  homeownership  purpose  \\\n",
       "0           0.0       0.0           1     1              1        3   \n",
       "1           0.0       0.0           1     0              3        3   \n",
       "2           1.0       0.0           1     1              3        6   \n",
       "3           1.0       0.0           1     1              3        3   \n",
       "4           0.0       0.0           1     1              1        5   \n",
       "\n",
       "   Yearsincurrentjobf  \n",
       "0                 7.0  \n",
       "1                 7.0  \n",
       "2                 1.0  \n",
       "3                 5.0  \n",
       "4                11.0  "
      ]
     },
     "execution_count": 51,
     "metadata": {},
     "output_type": "execute_result"
    }
   ],
   "source": [
    "da.head()"
   ]
  },
  {
   "cell_type": "code",
   "execution_count": 56,
   "metadata": {},
   "outputs": [
    {
     "data": {
      "text/plain": [
       "80.84994757142859"
      ]
     },
     "execution_count": 56,
     "metadata": {},
     "output_type": "execute_result"
    }
   ],
   "source": [
    "\n",
    "0.8084994757142858*100"
   ]
  },
  {
   "cell_type": "code",
   "execution_count": 43,
   "metadata": {},
   "outputs": [],
   "source": [
    "\n",
    "from sklearn.metrics import classification_report, confusion_matrix\n",
    "from sklearn.ensemble import GradientBoostingClassifier"
   ]
  },
  {
   "cell_type": "code",
   "execution_count": 44,
   "metadata": {},
   "outputs": [],
   "source": [
    "learning_rates = [0.05, 0.1, 0.25, 0.5, 0.75, 1]\n",
    "for learning_rate in learning_rates:\n",
    "    gb = GradientBoostingClassifier(n_estimators=10, learning_rate = learning_rate, max_features=2, max_depth = 3, random_state = 0)\n",
    "   "
   ]
  },
  {
   "cell_type": "code",
   "execution_count": 45,
   "metadata": {},
   "outputs": [
    {
     "data": {
      "text/plain": [
       "array([0.80529518, 0.81072192, 0.80414406, 0.80776188, 0.80411184,\n",
       "       0.80197368, 0.80756579, 0.809375  , 0.80740132, 0.81496711])"
      ]
     },
     "execution_count": 45,
     "metadata": {},
     "output_type": "execute_result"
    }
   ],
   "source": [
    "cross_val_score(gb,dfn.drop('LoanStatus',axis=1), dfn.LoanStatus, cv=10)"
   ]
  },
  {
   "cell_type": "code",
   "execution_count": 66,
   "metadata": {},
   "outputs": [
    {
     "data": {
      "text/plain": [
       "8.07117965"
      ]
     },
     "execution_count": 66,
     "metadata": {},
     "output_type": "execute_result"
    }
   ],
   "source": [
    "0.80397961+ 0.81269528+ 0.80332182+ 0.80776188+0.80460526+ 0.80263158+ 0.80559211+0.80740132+0.80888158+ 0.81430921"
   ]
  },
  {
   "cell_type": "code",
   "execution_count": 67,
   "metadata": {},
   "outputs": [
    {
     "data": {
      "text/html": [
       "<div>\n",
       "<style scoped>\n",
       "    .dataframe tbody tr th:only-of-type {\n",
       "        vertical-align: middle;\n",
       "    }\n",
       "\n",
       "    .dataframe tbody tr th {\n",
       "        vertical-align: top;\n",
       "    }\n",
       "\n",
       "    .dataframe thead th {\n",
       "        text-align: right;\n",
       "    }\n",
       "</style>\n",
       "<table border=\"1\" class=\"dataframe\">\n",
       "  <thead>\n",
       "    <tr style=\"text-align: right;\">\n",
       "      <th></th>\n",
       "      <th>1</th>\n",
       "      <th>2</th>\n",
       "      <th>3</th>\n",
       "      <th>4</th>\n",
       "      <th>5</th>\n",
       "      <th>6</th>\n",
       "      <th>7</th>\n",
       "      <th>8</th>\n",
       "      <th>9</th>\n",
       "      <th>10</th>\n",
       "      <th>11</th>\n",
       "      <th>12</th>\n",
       "      <th>13</th>\n",
       "      <th>14</th>\n",
       "      <th>15</th>\n",
       "      <th>16</th>\n",
       "      <th>17</th>\n",
       "    </tr>\n",
       "  </thead>\n",
       "  <tbody>\n",
       "    <tr>\n",
       "      <th>1</th>\n",
       "      <td>1.000000</td>\n",
       "      <td>-0.103373</td>\n",
       "      <td>0.010002</td>\n",
       "      <td>-0.007464</td>\n",
       "      <td>0.018171</td>\n",
       "      <td>0.007089</td>\n",
       "      <td>0.001045</td>\n",
       "      <td>0.004612</td>\n",
       "      <td>0.001571</td>\n",
       "      <td>0.000179</td>\n",
       "      <td>0.009000</td>\n",
       "      <td>-0.001614</td>\n",
       "      <td>0.209436</td>\n",
       "      <td>0.060511</td>\n",
       "      <td>-0.009873</td>\n",
       "      <td>-0.003036</td>\n",
       "      <td>-0.002285</td>\n",
       "    </tr>\n",
       "    <tr>\n",
       "      <th>2</th>\n",
       "      <td>-0.103373</td>\n",
       "      <td>1.000000</td>\n",
       "      <td>-0.011980</td>\n",
       "      <td>-0.002433</td>\n",
       "      <td>-0.017460</td>\n",
       "      <td>-0.004576</td>\n",
       "      <td>0.002674</td>\n",
       "      <td>-0.001587</td>\n",
       "      <td>-0.005870</td>\n",
       "      <td>-0.005313</td>\n",
       "      <td>-0.007266</td>\n",
       "      <td>0.009164</td>\n",
       "      <td>-0.406291</td>\n",
       "      <td>-0.037171</td>\n",
       "      <td>0.026587</td>\n",
       "      <td>-0.011137</td>\n",
       "      <td>-0.005282</td>\n",
       "    </tr>\n",
       "    <tr>\n",
       "      <th>3</th>\n",
       "      <td>0.010002</td>\n",
       "      <td>-0.011980</td>\n",
       "      <td>1.000000</td>\n",
       "      <td>0.389873</td>\n",
       "      <td>0.127342</td>\n",
       "      <td>-0.036130</td>\n",
       "      <td>0.117970</td>\n",
       "      <td>-0.015037</td>\n",
       "      <td>0.255597</td>\n",
       "      <td>0.053530</td>\n",
       "      <td>-0.040204</td>\n",
       "      <td>0.031292</td>\n",
       "      <td>0.040702</td>\n",
       "      <td>-0.069488</td>\n",
       "      <td>-0.141446</td>\n",
       "      <td>-0.004895</td>\n",
       "      <td>0.058161</td>\n",
       "    </tr>\n",
       "    <tr>\n",
       "      <th>4</th>\n",
       "      <td>-0.007464</td>\n",
       "      <td>-0.002433</td>\n",
       "      <td>0.389873</td>\n",
       "      <td>1.000000</td>\n",
       "      <td>0.198528</td>\n",
       "      <td>-0.036626</td>\n",
       "      <td>0.411829</td>\n",
       "      <td>-0.057784</td>\n",
       "      <td>0.487853</td>\n",
       "      <td>0.063082</td>\n",
       "      <td>-0.078111</td>\n",
       "      <td>0.015244</td>\n",
       "      <td>-0.009794</td>\n",
       "      <td>-0.159331</td>\n",
       "      <td>-0.206417</td>\n",
       "      <td>-0.065897</td>\n",
       "      <td>0.121631</td>\n",
       "    </tr>\n",
       "    <tr>\n",
       "      <th>5</th>\n",
       "      <td>0.018171</td>\n",
       "      <td>-0.017460</td>\n",
       "      <td>0.127342</td>\n",
       "      <td>0.198528</td>\n",
       "      <td>1.000000</td>\n",
       "      <td>-0.026955</td>\n",
       "      <td>0.129628</td>\n",
       "      <td>0.060772</td>\n",
       "      <td>0.211815</td>\n",
       "      <td>0.047293</td>\n",
       "      <td>0.068824</td>\n",
       "      <td>0.015053</td>\n",
       "      <td>0.030603</td>\n",
       "      <td>-0.036304</td>\n",
       "      <td>-0.196590</td>\n",
       "      <td>-0.021057</td>\n",
       "      <td>0.204092</td>\n",
       "    </tr>\n",
       "    <tr>\n",
       "      <th>6</th>\n",
       "      <td>0.007089</td>\n",
       "      <td>-0.004576</td>\n",
       "      <td>-0.036130</td>\n",
       "      <td>-0.036626</td>\n",
       "      <td>-0.026955</td>\n",
       "      <td>1.000000</td>\n",
       "      <td>-0.024494</td>\n",
       "      <td>0.078943</td>\n",
       "      <td>-0.018371</td>\n",
       "      <td>-0.004960</td>\n",
       "      <td>0.086274</td>\n",
       "      <td>0.009155</td>\n",
       "      <td>0.013280</td>\n",
       "      <td>0.007854</td>\n",
       "      <td>0.035482</td>\n",
       "      <td>-0.012779</td>\n",
       "      <td>-0.002638</td>\n",
       "    </tr>\n",
       "    <tr>\n",
       "      <th>7</th>\n",
       "      <td>0.001045</td>\n",
       "      <td>0.002674</td>\n",
       "      <td>0.117970</td>\n",
       "      <td>0.411829</td>\n",
       "      <td>0.129628</td>\n",
       "      <td>-0.024494</td>\n",
       "      <td>1.000000</td>\n",
       "      <td>-0.016702</td>\n",
       "      <td>0.227288</td>\n",
       "      <td>0.046539</td>\n",
       "      <td>-0.025214</td>\n",
       "      <td>0.006448</td>\n",
       "      <td>-0.016107</td>\n",
       "      <td>-0.078650</td>\n",
       "      <td>-0.141449</td>\n",
       "      <td>-0.078290</td>\n",
       "      <td>0.050053</td>\n",
       "    </tr>\n",
       "    <tr>\n",
       "      <th>8</th>\n",
       "      <td>0.004612</td>\n",
       "      <td>-0.001587</td>\n",
       "      <td>-0.015037</td>\n",
       "      <td>-0.057784</td>\n",
       "      <td>0.060772</td>\n",
       "      <td>0.078943</td>\n",
       "      <td>-0.016702</td>\n",
       "      <td>1.000000</td>\n",
       "      <td>-0.116483</td>\n",
       "      <td>-0.019176</td>\n",
       "      <td>0.748992</td>\n",
       "      <td>0.582490</td>\n",
       "      <td>0.000712</td>\n",
       "      <td>0.021511</td>\n",
       "      <td>-0.003527</td>\n",
       "      <td>0.001588</td>\n",
       "      <td>0.034685</td>\n",
       "    </tr>\n",
       "    <tr>\n",
       "      <th>9</th>\n",
       "      <td>0.001571</td>\n",
       "      <td>-0.005870</td>\n",
       "      <td>0.255597</td>\n",
       "      <td>0.487853</td>\n",
       "      <td>0.211815</td>\n",
       "      <td>-0.018371</td>\n",
       "      <td>0.227288</td>\n",
       "      <td>-0.116483</td>\n",
       "      <td>1.000000</td>\n",
       "      <td>0.196007</td>\n",
       "      <td>-0.125580</td>\n",
       "      <td>-0.018501</td>\n",
       "      <td>0.010737</td>\n",
       "      <td>-0.106202</td>\n",
       "      <td>-0.173279</td>\n",
       "      <td>-0.059340</td>\n",
       "      <td>0.095416</td>\n",
       "    </tr>\n",
       "    <tr>\n",
       "      <th>10</th>\n",
       "      <td>0.000179</td>\n",
       "      <td>-0.005313</td>\n",
       "      <td>0.053530</td>\n",
       "      <td>0.063082</td>\n",
       "      <td>0.047293</td>\n",
       "      <td>-0.004960</td>\n",
       "      <td>0.046539</td>\n",
       "      <td>-0.019176</td>\n",
       "      <td>0.196007</td>\n",
       "      <td>1.000000</td>\n",
       "      <td>-0.023497</td>\n",
       "      <td>-0.003955</td>\n",
       "      <td>0.009187</td>\n",
       "      <td>-0.006590</td>\n",
       "      <td>-0.042010</td>\n",
       "      <td>0.001971</td>\n",
       "      <td>0.012472</td>\n",
       "    </tr>\n",
       "    <tr>\n",
       "      <th>11</th>\n",
       "      <td>0.009000</td>\n",
       "      <td>-0.007266</td>\n",
       "      <td>-0.040204</td>\n",
       "      <td>-0.078111</td>\n",
       "      <td>0.068824</td>\n",
       "      <td>0.086274</td>\n",
       "      <td>-0.025214</td>\n",
       "      <td>0.748992</td>\n",
       "      <td>-0.125580</td>\n",
       "      <td>-0.023497</td>\n",
       "      <td>1.000000</td>\n",
       "      <td>0.048625</td>\n",
       "      <td>0.011670</td>\n",
       "      <td>0.028976</td>\n",
       "      <td>0.003389</td>\n",
       "      <td>-0.006320</td>\n",
       "      <td>0.036395</td>\n",
       "    </tr>\n",
       "    <tr>\n",
       "      <th>12</th>\n",
       "      <td>-0.001614</td>\n",
       "      <td>0.009164</td>\n",
       "      <td>0.031292</td>\n",
       "      <td>0.015244</td>\n",
       "      <td>0.015053</td>\n",
       "      <td>0.009155</td>\n",
       "      <td>0.006448</td>\n",
       "      <td>0.582490</td>\n",
       "      <td>-0.018501</td>\n",
       "      <td>-0.003955</td>\n",
       "      <td>0.048625</td>\n",
       "      <td>1.000000</td>\n",
       "      <td>-0.013363</td>\n",
       "      <td>-0.001150</td>\n",
       "      <td>-0.005603</td>\n",
       "      <td>0.000920</td>\n",
       "      <td>0.010446</td>\n",
       "    </tr>\n",
       "    <tr>\n",
       "      <th>13</th>\n",
       "      <td>0.209436</td>\n",
       "      <td>-0.406291</td>\n",
       "      <td>0.040702</td>\n",
       "      <td>-0.009794</td>\n",
       "      <td>0.030603</td>\n",
       "      <td>0.013280</td>\n",
       "      <td>-0.016107</td>\n",
       "      <td>0.000712</td>\n",
       "      <td>0.010737</td>\n",
       "      <td>0.009187</td>\n",
       "      <td>0.011670</td>\n",
       "      <td>-0.013363</td>\n",
       "      <td>1.000000</td>\n",
       "      <td>0.123478</td>\n",
       "      <td>-0.054586</td>\n",
       "      <td>-0.001287</td>\n",
       "      <td>0.008471</td>\n",
       "    </tr>\n",
       "    <tr>\n",
       "      <th>14</th>\n",
       "      <td>0.060511</td>\n",
       "      <td>-0.037171</td>\n",
       "      <td>-0.069488</td>\n",
       "      <td>-0.159331</td>\n",
       "      <td>-0.036304</td>\n",
       "      <td>0.007854</td>\n",
       "      <td>-0.078650</td>\n",
       "      <td>0.021511</td>\n",
       "      <td>-0.106202</td>\n",
       "      <td>-0.006590</td>\n",
       "      <td>0.028976</td>\n",
       "      <td>-0.001150</td>\n",
       "      <td>0.123478</td>\n",
       "      <td>1.000000</td>\n",
       "      <td>0.117121</td>\n",
       "      <td>0.049622</td>\n",
       "      <td>-0.061950</td>\n",
       "    </tr>\n",
       "    <tr>\n",
       "      <th>15</th>\n",
       "      <td>-0.009873</td>\n",
       "      <td>0.026587</td>\n",
       "      <td>-0.141446</td>\n",
       "      <td>-0.206417</td>\n",
       "      <td>-0.196590</td>\n",
       "      <td>0.035482</td>\n",
       "      <td>-0.141449</td>\n",
       "      <td>-0.003527</td>\n",
       "      <td>-0.173279</td>\n",
       "      <td>-0.042010</td>\n",
       "      <td>0.003389</td>\n",
       "      <td>-0.005603</td>\n",
       "      <td>-0.054586</td>\n",
       "      <td>0.117121</td>\n",
       "      <td>1.000000</td>\n",
       "      <td>0.033880</td>\n",
       "      <td>-0.193094</td>\n",
       "    </tr>\n",
       "    <tr>\n",
       "      <th>16</th>\n",
       "      <td>-0.003036</td>\n",
       "      <td>-0.011137</td>\n",
       "      <td>-0.004895</td>\n",
       "      <td>-0.065897</td>\n",
       "      <td>-0.021057</td>\n",
       "      <td>-0.012779</td>\n",
       "      <td>-0.078290</td>\n",
       "      <td>0.001588</td>\n",
       "      <td>-0.059340</td>\n",
       "      <td>0.001971</td>\n",
       "      <td>-0.006320</td>\n",
       "      <td>0.000920</td>\n",
       "      <td>-0.001287</td>\n",
       "      <td>0.049622</td>\n",
       "      <td>0.033880</td>\n",
       "      <td>1.000000</td>\n",
       "      <td>-0.023489</td>\n",
       "    </tr>\n",
       "    <tr>\n",
       "      <th>17</th>\n",
       "      <td>-0.002285</td>\n",
       "      <td>-0.005282</td>\n",
       "      <td>0.058161</td>\n",
       "      <td>0.121631</td>\n",
       "      <td>0.204092</td>\n",
       "      <td>-0.002638</td>\n",
       "      <td>0.050053</td>\n",
       "      <td>0.034685</td>\n",
       "      <td>0.095416</td>\n",
       "      <td>0.012472</td>\n",
       "      <td>0.036395</td>\n",
       "      <td>0.010446</td>\n",
       "      <td>0.008471</td>\n",
       "      <td>-0.061950</td>\n",
       "      <td>-0.193094</td>\n",
       "      <td>-0.023489</td>\n",
       "      <td>1.000000</td>\n",
       "    </tr>\n",
       "  </tbody>\n",
       "</table>\n",
       "</div>"
      ],
      "text/plain": [
       "          1         2         3         4         5         6         7   \\\n",
       "1   1.000000 -0.103373  0.010002 -0.007464  0.018171  0.007089  0.001045   \n",
       "2  -0.103373  1.000000 -0.011980 -0.002433 -0.017460 -0.004576  0.002674   \n",
       "3   0.010002 -0.011980  1.000000  0.389873  0.127342 -0.036130  0.117970   \n",
       "4  -0.007464 -0.002433  0.389873  1.000000  0.198528 -0.036626  0.411829   \n",
       "5   0.018171 -0.017460  0.127342  0.198528  1.000000 -0.026955  0.129628   \n",
       "6   0.007089 -0.004576 -0.036130 -0.036626 -0.026955  1.000000 -0.024494   \n",
       "7   0.001045  0.002674  0.117970  0.411829  0.129628 -0.024494  1.000000   \n",
       "8   0.004612 -0.001587 -0.015037 -0.057784  0.060772  0.078943 -0.016702   \n",
       "9   0.001571 -0.005870  0.255597  0.487853  0.211815 -0.018371  0.227288   \n",
       "10  0.000179 -0.005313  0.053530  0.063082  0.047293 -0.004960  0.046539   \n",
       "11  0.009000 -0.007266 -0.040204 -0.078111  0.068824  0.086274 -0.025214   \n",
       "12 -0.001614  0.009164  0.031292  0.015244  0.015053  0.009155  0.006448   \n",
       "13  0.209436 -0.406291  0.040702 -0.009794  0.030603  0.013280 -0.016107   \n",
       "14  0.060511 -0.037171 -0.069488 -0.159331 -0.036304  0.007854 -0.078650   \n",
       "15 -0.009873  0.026587 -0.141446 -0.206417 -0.196590  0.035482 -0.141449   \n",
       "16 -0.003036 -0.011137 -0.004895 -0.065897 -0.021057 -0.012779 -0.078290   \n",
       "17 -0.002285 -0.005282  0.058161  0.121631  0.204092 -0.002638  0.050053   \n",
       "\n",
       "          8         9         10        11        12        13        14  \\\n",
       "1   0.004612  0.001571  0.000179  0.009000 -0.001614  0.209436  0.060511   \n",
       "2  -0.001587 -0.005870 -0.005313 -0.007266  0.009164 -0.406291 -0.037171   \n",
       "3  -0.015037  0.255597  0.053530 -0.040204  0.031292  0.040702 -0.069488   \n",
       "4  -0.057784  0.487853  0.063082 -0.078111  0.015244 -0.009794 -0.159331   \n",
       "5   0.060772  0.211815  0.047293  0.068824  0.015053  0.030603 -0.036304   \n",
       "6   0.078943 -0.018371 -0.004960  0.086274  0.009155  0.013280  0.007854   \n",
       "7  -0.016702  0.227288  0.046539 -0.025214  0.006448 -0.016107 -0.078650   \n",
       "8   1.000000 -0.116483 -0.019176  0.748992  0.582490  0.000712  0.021511   \n",
       "9  -0.116483  1.000000  0.196007 -0.125580 -0.018501  0.010737 -0.106202   \n",
       "10 -0.019176  0.196007  1.000000 -0.023497 -0.003955  0.009187 -0.006590   \n",
       "11  0.748992 -0.125580 -0.023497  1.000000  0.048625  0.011670  0.028976   \n",
       "12  0.582490 -0.018501 -0.003955  0.048625  1.000000 -0.013363 -0.001150   \n",
       "13  0.000712  0.010737  0.009187  0.011670 -0.013363  1.000000  0.123478   \n",
       "14  0.021511 -0.106202 -0.006590  0.028976 -0.001150  0.123478  1.000000   \n",
       "15 -0.003527 -0.173279 -0.042010  0.003389 -0.005603 -0.054586  0.117121   \n",
       "16  0.001588 -0.059340  0.001971 -0.006320  0.000920 -0.001287  0.049622   \n",
       "17  0.034685  0.095416  0.012472  0.036395  0.010446  0.008471 -0.061950   \n",
       "\n",
       "          15        16        17  \n",
       "1  -0.009873 -0.003036 -0.002285  \n",
       "2   0.026587 -0.011137 -0.005282  \n",
       "3  -0.141446 -0.004895  0.058161  \n",
       "4  -0.206417 -0.065897  0.121631  \n",
       "5  -0.196590 -0.021057  0.204092  \n",
       "6   0.035482 -0.012779 -0.002638  \n",
       "7  -0.141449 -0.078290  0.050053  \n",
       "8  -0.003527  0.001588  0.034685  \n",
       "9  -0.173279 -0.059340  0.095416  \n",
       "10 -0.042010  0.001971  0.012472  \n",
       "11  0.003389 -0.006320  0.036395  \n",
       "12 -0.005603  0.000920  0.010446  \n",
       "13 -0.054586 -0.001287  0.008471  \n",
       "14  0.117121  0.049622 -0.061950  \n",
       "15  1.000000  0.033880 -0.193094  \n",
       "16  0.033880  1.000000 -0.023489  \n",
       "17 -0.193094 -0.023489  1.000000  "
      ]
     },
     "execution_count": 67,
     "metadata": {},
     "output_type": "execute_result"
    }
   ],
   "source": [
    "dfnorm.corr()"
   ]
  },
  {
   "cell_type": "code",
   "execution_count": 68,
   "metadata": {},
   "outputs": [],
   "source": [
    "db = da.drop_duplicates()"
   ]
  },
  {
   "cell_type": "code",
   "execution_count": 69,
   "metadata": {},
   "outputs": [
    {
     "data": {
      "text/plain": [
       "(60804, 17)"
      ]
     },
     "execution_count": 69,
     "metadata": {},
     "output_type": "execute_result"
    }
   ],
   "source": [
    "da.shape"
   ]
  },
  {
   "cell_type": "code",
   "execution_count": 70,
   "metadata": {},
   "outputs": [
    {
     "data": {
      "text/plain": [
       "(58473, 17)"
      ]
     },
     "execution_count": 70,
     "metadata": {},
     "output_type": "execute_result"
    }
   ],
   "source": [
    "db.shape"
   ]
  },
  {
   "cell_type": "code",
   "execution_count": 137,
   "metadata": {},
   "outputs": [
    {
     "data": {
      "text/html": [
       "<div>\n",
       "<style scoped>\n",
       "    .dataframe tbody tr th:only-of-type {\n",
       "        vertical-align: middle;\n",
       "    }\n",
       "\n",
       "    .dataframe tbody tr th {\n",
       "        vertical-align: top;\n",
       "    }\n",
       "\n",
       "    .dataframe thead th {\n",
       "        text-align: right;\n",
       "    }\n",
       "</style>\n",
       "<table border=\"1\" class=\"dataframe\">\n",
       "  <thead>\n",
       "    <tr style=\"text-align: right;\">\n",
       "      <th></th>\n",
       "      <th>CurrentLoanAmount</th>\n",
       "      <th>CreditScore</th>\n",
       "      <th>AnnualIncome</th>\n",
       "      <th>MonthlyDebt</th>\n",
       "      <th>YearsofCreditHistory</th>\n",
       "      <th>Monthssincelastdelinquent</th>\n",
       "      <th>NumberofOpenAccounts</th>\n",
       "      <th>NumberofCreditProblems</th>\n",
       "      <th>CurrentCreditBalance</th>\n",
       "      <th>MaximumOpenCredit</th>\n",
       "      <th>Bankruptcies</th>\n",
       "      <th>TaxLiens</th>\n",
       "      <th>LoanStatus</th>\n",
       "      <th>term</th>\n",
       "      <th>homeownership</th>\n",
       "      <th>purpose</th>\n",
       "      <th>Yearsincurrentjobf</th>\n",
       "    </tr>\n",
       "  </thead>\n",
       "  <tbody>\n",
       "    <tr>\n",
       "      <th>0</th>\n",
       "      <td>17879</td>\n",
       "      <td>739.0</td>\n",
       "      <td>95357.0</td>\n",
       "      <td>1509.82</td>\n",
       "      <td>34.4</td>\n",
       "      <td>5.000000</td>\n",
       "      <td>26</td>\n",
       "      <td>0</td>\n",
       "      <td>23986</td>\n",
       "      <td>40313</td>\n",
       "      <td>0.0</td>\n",
       "      <td>0.0</td>\n",
       "      <td>1</td>\n",
       "      <td>1</td>\n",
       "      <td>1</td>\n",
       "      <td>3</td>\n",
       "      <td>7.0</td>\n",
       "    </tr>\n",
       "    <tr>\n",
       "      <th>1</th>\n",
       "      <td>99999999</td>\n",
       "      <td>619.0</td>\n",
       "      <td>54406.0</td>\n",
       "      <td>1065.45</td>\n",
       "      <td>12.7</td>\n",
       "      <td>34.859402</td>\n",
       "      <td>8</td>\n",
       "      <td>0</td>\n",
       "      <td>22938</td>\n",
       "      <td>31250</td>\n",
       "      <td>0.0</td>\n",
       "      <td>0.0</td>\n",
       "      <td>1</td>\n",
       "      <td>0</td>\n",
       "      <td>3</td>\n",
       "      <td>3</td>\n",
       "      <td>7.0</td>\n",
       "    </tr>\n",
       "    <tr>\n",
       "      <th>2</th>\n",
       "      <td>99999999</td>\n",
       "      <td>738.0</td>\n",
       "      <td>40480.0</td>\n",
       "      <td>573.47</td>\n",
       "      <td>32.7</td>\n",
       "      <td>60.000000</td>\n",
       "      <td>9</td>\n",
       "      <td>1</td>\n",
       "      <td>3963</td>\n",
       "      <td>5669</td>\n",
       "      <td>1.0</td>\n",
       "      <td>0.0</td>\n",
       "      <td>1</td>\n",
       "      <td>1</td>\n",
       "      <td>3</td>\n",
       "      <td>6</td>\n",
       "      <td>1.0</td>\n",
       "    </tr>\n",
       "    <tr>\n",
       "      <th>3</th>\n",
       "      <td>11200</td>\n",
       "      <td>738.0</td>\n",
       "      <td>53965.0</td>\n",
       "      <td>1358.11</td>\n",
       "      <td>15.8</td>\n",
       "      <td>34.859402</td>\n",
       "      <td>8</td>\n",
       "      <td>1</td>\n",
       "      <td>11782</td>\n",
       "      <td>25951</td>\n",
       "      <td>1.0</td>\n",
       "      <td>0.0</td>\n",
       "      <td>1</td>\n",
       "      <td>1</td>\n",
       "      <td>3</td>\n",
       "      <td>3</td>\n",
       "      <td>5.0</td>\n",
       "    </tr>\n",
       "    <tr>\n",
       "      <th>4</th>\n",
       "      <td>3608</td>\n",
       "      <td>731.0</td>\n",
       "      <td>47709.0</td>\n",
       "      <td>339.93</td>\n",
       "      <td>16.1</td>\n",
       "      <td>47.000000</td>\n",
       "      <td>6</td>\n",
       "      <td>0</td>\n",
       "      <td>22909</td>\n",
       "      <td>25568</td>\n",
       "      <td>0.0</td>\n",
       "      <td>0.0</td>\n",
       "      <td>1</td>\n",
       "      <td>1</td>\n",
       "      <td>1</td>\n",
       "      <td>5</td>\n",
       "      <td>11.0</td>\n",
       "    </tr>\n",
       "  </tbody>\n",
       "</table>\n",
       "</div>"
      ],
      "text/plain": [
       "   CurrentLoanAmount  CreditScore  AnnualIncome  MonthlyDebt  \\\n",
       "0              17879        739.0       95357.0      1509.82   \n",
       "1           99999999        619.0       54406.0      1065.45   \n",
       "2           99999999        738.0       40480.0       573.47   \n",
       "3              11200        738.0       53965.0      1358.11   \n",
       "4               3608        731.0       47709.0       339.93   \n",
       "\n",
       "   YearsofCreditHistory  Monthssincelastdelinquent  NumberofOpenAccounts  \\\n",
       "0                  34.4                   5.000000                    26   \n",
       "1                  12.7                  34.859402                     8   \n",
       "2                  32.7                  60.000000                     9   \n",
       "3                  15.8                  34.859402                     8   \n",
       "4                  16.1                  47.000000                     6   \n",
       "\n",
       "   NumberofCreditProblems  CurrentCreditBalance  MaximumOpenCredit  \\\n",
       "0                       0                 23986              40313   \n",
       "1                       0                 22938              31250   \n",
       "2                       1                  3963               5669   \n",
       "3                       1                 11782              25951   \n",
       "4                       0                 22909              25568   \n",
       "\n",
       "   Bankruptcies  TaxLiens  LoanStatus  term  homeownership  purpose  \\\n",
       "0           0.0       0.0           1     1              1        3   \n",
       "1           0.0       0.0           1     0              3        3   \n",
       "2           1.0       0.0           1     1              3        6   \n",
       "3           1.0       0.0           1     1              3        3   \n",
       "4           0.0       0.0           1     1              1        5   \n",
       "\n",
       "   Yearsincurrentjobf  \n",
       "0                 7.0  \n",
       "1                 7.0  \n",
       "2                 1.0  \n",
       "3                 5.0  \n",
       "4                11.0  "
      ]
     },
     "execution_count": 137,
     "metadata": {},
     "output_type": "execute_result"
    }
   ],
   "source": [
    "dfn.head()"
   ]
  },
  {
   "cell_type": "code",
   "execution_count": 46,
   "metadata": {},
   "outputs": [],
   "source": [
    "from sklearn.model_selection import train_test_split\n",
    "X_train, X_test, y_train, y_test = train_test_split(dfn.drop('LoanStatus',axis=1), dfn.LoanStatus, test_size=0.33, random_state=42)"
   ]
  },
  {
   "cell_type": "code",
   "execution_count": 155,
   "metadata": {},
   "outputs": [
    {
     "ename": "SyntaxError",
     "evalue": "invalid character in identifier (<ipython-input-155-68b3a11232b7>, line 6)",
     "output_type": "error",
     "traceback": [
      "\u001b[1;36m  File \u001b[1;32m\"<ipython-input-155-68b3a11232b7>\"\u001b[1;36m, line \u001b[1;32m6\u001b[0m\n\u001b[1;33m    params_rf = {‘n_estimators’ : [50, 100, 200]}\u001b[0m\n\u001b[1;37m                              ^\u001b[0m\n\u001b[1;31mSyntaxError\u001b[0m\u001b[1;31m:\u001b[0m invalid character in identifier\n"
     ]
    }
   ],
   "source": [
    "from sklearn.ensemble import RandomForestClassifier\n",
    "from sklearn.model_selection import GridSearchCV\n",
    "#create a new random forest classifier\n",
    "rf = RandomForestClassifier()\n",
    "#create a dictionary of all values we want to test for n_estimators\n",
    "params_rf = {‘n_estimators’ : [50, 100, 200]}\n",
    "#use gridsearch to test all values for n_estimators\n",
    "rf_gs = GridSearchCV(rf, params_rf, cv=5)\n",
    "#fit model to training data\n",
    "rf_gs.fit(X_train, y_train)\n",
    "#save best model\n",
    "rf_best = rf_gs.best_estimator_\n",
    "#check best n_estimators value\n",
    "print(rf_gs.best_params_)"
   ]
  },
  {
   "cell_type": "code",
   "execution_count": 47,
   "metadata": {},
   "outputs": [],
   "source": [
    "from sklearn.ensemble import BaggingClassifier"
   ]
  },
  {
   "cell_type": "code",
   "execution_count": null,
   "metadata": {},
   "outputs": [],
   "source": [
    "bg = BaggingClassifier(h,max_samples=0.6,max_features=1.0,n_estimators=20)\n",
    "bg.fit(X_train,y_train)"
   ]
  },
  {
   "cell_type": "code",
   "execution_count": 169,
   "metadata": {},
   "outputs": [
    {
     "data": {
      "text/plain": [
       "0.7615867636798564"
      ]
     },
     "execution_count": 169,
     "metadata": {},
     "output_type": "execute_result"
    }
   ],
   "source": [
    "bg.score(X_test,y_test)"
   ]
  },
  {
   "cell_type": "code",
   "execution_count": 51,
   "metadata": {},
   "outputs": [],
   "source": [
    "from sklearn.ensemble import VotingClassifier"
   ]
  },
  {
   "cell_type": "code",
   "execution_count": 61,
   "metadata": {},
   "outputs": [],
   "source": [
    "voting = VotingClassifier(estimators = [d,h,gb],voting='hard')"
   ]
  },
  {
   "cell_type": "code",
   "execution_count": 163,
   "metadata": {},
   "outputs": [
    {
     "ename": "TypeError",
     "evalue": "'VotingClassifier' object is not callable",
     "output_type": "error",
     "traceback": [
      "\u001b[1;31m---------------------------------------------------------------------------\u001b[0m",
      "\u001b[1;31mTypeError\u001b[0m                                 Traceback (most recent call last)",
      "\u001b[1;32m<ipython-input-163-851d2943e836>\u001b[0m in \u001b[0;36m<module>\u001b[1;34m\u001b[0m\n\u001b[1;32m----> 1\u001b[1;33m \u001b[0mvoting\u001b[0m\u001b[1;33m(\u001b[0m\u001b[0mX_train\u001b[0m\u001b[1;33m,\u001b[0m\u001b[0my_train\u001b[0m\u001b[1;33m)\u001b[0m\u001b[1;33m.\u001b[0m\u001b[0mscore\u001b[0m\u001b[1;33m(\u001b[0m\u001b[1;33m)\u001b[0m\u001b[1;33m\u001b[0m\u001b[1;33m\u001b[0m\u001b[0m\n\u001b[0m",
      "\u001b[1;31mTypeError\u001b[0m: 'VotingClassifier' object is not callable"
     ]
    }
   ],
   "source": [
    "voting(X_train,y_train).score()"
   ]
  },
  {
   "cell_type": "code",
   "execution_count": 62,
   "metadata": {},
   "outputs": [],
   "source": [
    "from sklearn.ensemble import AdaBoostClassifier\n",
    "from sklearn.ensemble import RandomForestClassifier"
   ]
  },
  {
   "cell_type": "code",
   "execution_count": 171,
   "metadata": {},
   "outputs": [],
   "source": [
    "clf = RandomForestClassifier(n_estimators=1000,n_jobs=-1);\n",
    "\n",
    "bclf = AdaBoostClassifier(base_estimator=clf,n_estimators=clf.n_estimators)"
   ]
  },
  {
   "cell_type": "code",
   "execution_count": 1,
   "metadata": {},
   "outputs": [
    {
     "ename": "NameError",
     "evalue": "name 'bclf' is not defined",
     "output_type": "error",
     "traceback": [
      "\u001b[1;31m---------------------------------------------------------------------------\u001b[0m",
      "\u001b[1;31mNameError\u001b[0m                                 Traceback (most recent call last)",
      "\u001b[1;32m<ipython-input-1-2c6afedca713>\u001b[0m in \u001b[0;36m<module>\u001b[1;34m\u001b[0m\n\u001b[1;32m----> 1\u001b[1;33m \u001b[0mbclf\u001b[0m\u001b[1;33m.\u001b[0m\u001b[0mfit\u001b[0m\u001b[1;33m(\u001b[0m\u001b[0mX_train\u001b[0m\u001b[1;33m,\u001b[0m\u001b[0my_train\u001b[0m\u001b[1;33m)\u001b[0m\u001b[1;33m\u001b[0m\u001b[1;33m\u001b[0m\u001b[0m\n\u001b[0m",
      "\u001b[1;31mNameError\u001b[0m: name 'bclf' is not defined"
     ]
    }
   ],
   "source": [
    "bclf.fit(X_train,y_train)"
   ]
  },
  {
   "cell_type": "code",
   "execution_count": null,
   "metadata": {},
   "outputs": [],
   "source": [
    "bclf.score()"
   ]
  },
  {
   "cell_type": "code",
   "execution_count": 63,
   "metadata": {},
   "outputs": [],
   "source": [
    "from sklearn.ensemble import BaggingClassifier\n",
    "bag = BaggingClassifier(\n",
    "                        d,\n",
    "                        max_samples =0.5,\n",
    "                        max_features = 2,\n",
    "                        n_jobs=2,\n",
    "                        oob_score=True)"
   ]
  },
  {
   "cell_type": "code",
   "execution_count": null,
   "metadata": {},
   "outputs": [],
   "source": [
    "bag.fit(X_train,y_train)"
   ]
  },
  {
   "cell_type": "code",
   "execution_count": 76,
   "metadata": {},
   "outputs": [
    {
     "ename": "TypeError",
     "evalue": "__init__() got an unexpected keyword argument 'base_estimators'",
     "output_type": "error",
     "traceback": [
      "\u001b[1;31m---------------------------------------------------------------------------\u001b[0m",
      "\u001b[1;31mTypeError\u001b[0m                                 Traceback (most recent call last)",
      "\u001b[1;32m<ipython-input-76-c4c4f30d4599>\u001b[0m in \u001b[0;36m<module>\u001b[1;34m\u001b[0m\n\u001b[0;32m      1\u001b[0m \u001b[1;32mfrom\u001b[0m \u001b[0msklearn\u001b[0m\u001b[1;33m.\u001b[0m\u001b[0mensemble\u001b[0m \u001b[1;32mimport\u001b[0m \u001b[0mAdaBoostClassifier\u001b[0m\u001b[1;33m\u001b[0m\u001b[1;33m\u001b[0m\u001b[0m\n\u001b[1;32m----> 2\u001b[1;33m \u001b[0mm\u001b[0m \u001b[1;33m=\u001b[0m \u001b[0mAdaBoostClassifier\u001b[0m\u001b[1;33m(\u001b[0m\u001b[0mbase_estimators\u001b[0m\u001b[1;33m=\u001b[0m\u001b[1;32mNone\u001b[0m\u001b[1;33m,\u001b[0m\u001b[0mn_estimators\u001b[0m\u001b[1;33m=\u001b[0m\u001b[1;36m100\u001b[0m\u001b[1;33m)\u001b[0m\u001b[1;33m\u001b[0m\u001b[1;33m\u001b[0m\u001b[0m\n\u001b[0m\u001b[0;32m      3\u001b[0m \u001b[0mcross_val_score\u001b[0m\u001b[1;33m(\u001b[0m\u001b[0mm\u001b[0m\u001b[1;33m,\u001b[0m\u001b[0mdfn\u001b[0m\u001b[1;33m.\u001b[0m\u001b[0mdrop\u001b[0m\u001b[1;33m(\u001b[0m\u001b[1;34m'LoanStatus'\u001b[0m\u001b[1;33m,\u001b[0m\u001b[0maxis\u001b[0m\u001b[1;33m=\u001b[0m\u001b[1;36m1\u001b[0m\u001b[1;33m)\u001b[0m\u001b[1;33m,\u001b[0m \u001b[0mdfn\u001b[0m\u001b[1;33m.\u001b[0m\u001b[0mLoanStatus\u001b[0m\u001b[1;33m,\u001b[0m \u001b[0mcv\u001b[0m\u001b[1;33m=\u001b[0m\u001b[1;36m3\u001b[0m\u001b[1;33m)\u001b[0m\u001b[1;33m\u001b[0m\u001b[1;33m\u001b[0m\u001b[0m\n",
      "\u001b[1;31mTypeError\u001b[0m: __init__() got an unexpected keyword argument 'base_estimators'"
     ]
    }
   ],
   "source": [
    "from sklearn.ensemble import AdaBoostClassifier\n",
    "m = AdaBoostClassifier(base_estimators=None,n_estimators=100)\n",
    "cross_val_score(m,dfn.drop('LoanStatus',axis=1), dfn.LoanStatus, cv=3)"
   ]
  },
  {
   "cell_type": "code",
   "execution_count": 64,
   "metadata": {},
   "outputs": [],
   "source": [
    "from sklearn.ensemble import GradientBoostingClassifier\n",
    "m=GradientBoostingClassifier(n_estimators=10)"
   ]
  },
  {
   "cell_type": "code",
   "execution_count": 65,
   "metadata": {},
   "outputs": [
    {
     "data": {
      "text/plain": [
       "GradientBoostingClassifier(ccp_alpha=0.0, criterion='friedman_mse', init=None,\n",
       "                           learning_rate=0.1, loss='deviance', max_depth=2,\n",
       "                           max_features=None, max_leaf_nodes=None,\n",
       "                           min_impurity_decrease=0.0, min_impurity_split=None,\n",
       "                           min_samples_leaf=1, min_samples_split=2,\n",
       "                           min_weight_fraction_leaf=0.0, n_estimators=10,\n",
       "                           n_iter_no_change=None, presort='deprecated',\n",
       "                           random_state=None, subsample=1.0, tol=0.0001,\n",
       "                           validation_fraction=0.1, verbose=0,\n",
       "                           warm_start=False)"
      ]
     },
     "execution_count": 65,
     "metadata": {},
     "output_type": "execute_result"
    }
   ],
   "source": [
    "m.set_params(n_estimators=10,max_depth=2)"
   ]
  },
  {
   "cell_type": "code",
   "execution_count": 88,
   "metadata": {},
   "outputs": [
    {
     "data": {
      "text/plain": [
       "array([0.80496629, 0.81187305, 0.80365072, 0.80809077, 0.80608553,\n",
       "       0.80328947, 0.80871711, 0.80805921, 0.80773026, 0.81578947])"
      ]
     },
     "execution_count": 88,
     "metadata": {},
     "output_type": "execute_result"
    }
   ],
   "source": [
    "cross_val_score(m,dfn.drop('LoanStatus',axis=1), dfn.LoanStatus, cv=10)"
   ]
  },
  {
   "cell_type": "code",
   "execution_count": 82,
   "metadata": {},
   "outputs": [
    {
     "data": {
      "text/plain": [
       "8.07825188"
      ]
     },
     "execution_count": 82,
     "metadata": {},
     "output_type": "execute_result"
    }
   ],
   "source": [
    "0.80496629+0.81187305+0.80365072+0.80809077+0.80608553+0.80328947+0.80871711+ 0.80805921+ 0.80773026+ 0.81578947"
   ]
  },
  {
   "cell_type": "code",
   "execution_count": 66,
   "metadata": {},
   "outputs": [],
   "source": [
    "from sklearn.ensemble import VotingClassifier"
   ]
  },
  {
   "cell_type": "code",
   "execution_count": 96,
   "metadata": {},
   "outputs": [],
   "source": [
    "model = VotingClassifier(estimators=[('lr', h), ('gbm', m)], voting='soft')"
   ]
  },
  {
   "cell_type": "code",
   "execution_count": 102,
   "metadata": {},
   "outputs": [],
   "source": [
    "model = VotingClassifier(estimators=[('lr', h), ('gbm', m),('rf',d)] ,voting='hard')"
   ]
  },
  {
   "cell_type": "code",
   "execution_count": 97,
   "metadata": {},
   "outputs": [
    {
     "data": {
      "text/plain": [
       "array([0.80764423, 0.80632853, 0.80744688, 0.8100125 ])"
      ]
     },
     "execution_count": 97,
     "metadata": {},
     "output_type": "execute_result"
    }
   ],
   "source": [
    "cross_val_score(model,dfn.drop('LoanStatus',axis=1), dfn.LoanStatus, cv=4)"
   ]
  },
  {
   "cell_type": "code",
   "execution_count": 95,
   "metadata": {},
   "outputs": [
    {
     "data": {
      "text/plain": [
       "80.88448125"
      ]
     },
     "execution_count": 95,
     "metadata": {},
     "output_type": "execute_result"
    }
   ],
   "source": [
    "3.23537925/0.04\n"
   ]
  },
  {
   "cell_type": "code",
   "execution_count": 103,
   "metadata": {},
   "outputs": [
    {
     "data": {
      "text/plain": [
       "VotingClassifier(estimators=[('lr',\n",
       "                              AdaBoostClassifier(algorithm='SAMME.R',\n",
       "                                                 base_estimator=RandomForestClassifier(bootstrap=True,\n",
       "                                                                                       ccp_alpha=0.0,\n",
       "                                                                                       class_weight=None,\n",
       "                                                                                       criterion='gini',\n",
       "                                                                                       max_depth=None,\n",
       "                                                                                       max_features='auto',\n",
       "                                                                                       max_leaf_nodes=None,\n",
       "                                                                                       max_samples=None,\n",
       "                                                                                       min_impurity_decrease=0.0,\n",
       "                                                                                       min_impurity_split=None,\n",
       "                                                                                       min_samples_leaf=1,\n",
       "                                                                                       min_samples_split=2,\n",
       "                                                                                       min_weight_fr...\n",
       "                                                     criterion='gini',\n",
       "                                                     max_depth=None,\n",
       "                                                     max_features='auto',\n",
       "                                                     max_leaf_nodes=None,\n",
       "                                                     max_samples=None,\n",
       "                                                     min_impurity_decrease=0.0,\n",
       "                                                     min_impurity_split=None,\n",
       "                                                     min_samples_leaf=1,\n",
       "                                                     min_samples_split=2,\n",
       "                                                     min_weight_fraction_leaf=0.0,\n",
       "                                                     n_estimators=100,\n",
       "                                                     n_jobs=None,\n",
       "                                                     oob_score=False,\n",
       "                                                     random_state=None,\n",
       "                                                     verbose=0,\n",
       "                                                     warm_start=False))],\n",
       "                 flatten_transform=True, n_jobs=None, voting='hard',\n",
       "                 weights=None)"
      ]
     },
     "execution_count": 103,
     "metadata": {},
     "output_type": "execute_result"
    }
   ],
   "source": [
    "model.fit(dfn.drop('LoanStatus',axis=1), dfn.LoanStatus)"
   ]
  },
  {
   "cell_type": "code",
   "execution_count": 106,
   "metadata": {},
   "outputs": [],
   "source": [
    "Q=model.predict(testn.drop('LoanStatus',axis=1))"
   ]
  },
  {
   "cell_type": "code",
   "execution_count": 107,
   "metadata": {},
   "outputs": [],
   "source": [
    "df_a = pd.DataFrame(Q)\n",
    "dp1 = pd.concat([testx, df_a], axis=1)"
   ]
  },
  {
   "cell_type": "code",
   "execution_count": 109,
   "metadata": {},
   "outputs": [],
   "source": [
    "dp1.to_csv('C:/Users/Asus/result8.csv',index=False)"
   ]
  },
  {
   "cell_type": "code",
   "execution_count": 52,
   "metadata": {},
   "outputs": [],
   "source": [
    "from sklearn.ensemble import BaggingClassifier\n",
    "from sklearn import tree\n",
    "model1 = BaggingClassifier(h)\n",
    "cross_val_score(model,dfnorm.drop(13,axis=1), dfnorm[13], cv=4)"
   ]
  },
  {
   "cell_type": "code",
   "execution_count": 53,
   "metadata": {},
   "outputs": [],
   "source": [
    "from sklearn.ensemble import BaggingClassifier\n",
    "from sklearn import tree\n",
    "model2 = BaggingClassifier(d)\n"
   ]
  },
  {
   "cell_type": "code",
   "execution_count": 117,
   "metadata": {},
   "outputs": [],
   "source": [
    "model = VotingClassifier(estimators=[('lr', h), ('gbm', m),('1',model1),('2',model2)] ,voting='hard')"
   ]
  },
  {
   "cell_type": "code",
   "execution_count": 118,
   "metadata": {},
   "outputs": [
    {
     "data": {
      "text/plain": [
       "array([0.80803894, 0.80882837, 0.80863101, 0.81159134])"
      ]
     },
     "execution_count": 118,
     "metadata": {},
     "output_type": "execute_result"
    }
   ],
   "source": [
    "cross_val_score(model,dfn.drop('LoanStatus',axis=1), dfn.LoanStatus, cv=4)"
   ]
  },
  {
   "cell_type": "code",
   "execution_count": 120,
   "metadata": {},
   "outputs": [
    {
     "data": {
      "text/plain": [
       "80.9272415"
      ]
     },
     "execution_count": 120,
     "metadata": {},
     "output_type": "execute_result"
    }
   ],
   "source": [
    "3.23708966/0.04"
   ]
  },
  {
   "cell_type": "code",
   "execution_count": 112,
   "metadata": {},
   "outputs": [
    {
     "data": {
      "text/plain": [
       "80.93546475"
      ]
     },
     "execution_count": 112,
     "metadata": {},
     "output_type": "execute_result"
    }
   ],
   "source": [
    "3.23741859/0.04"
   ]
  },
  {
   "cell_type": "code",
   "execution_count": 122,
   "metadata": {},
   "outputs": [],
   "source": [
    "model1.fit(dfn.drop('LoanStatus',axis=1), dfn.LoanStatus)\n",
    "R=model1.predict(testn.drop('LoanStatus',axis=1))"
   ]
  },
  {
   "cell_type": "code",
   "execution_count": null,
   "metadata": {},
   "outputs": [],
   "source": [
    "def Stacking(model,train,y,test,n_fold):\n",
    "   folds=StratifiedKFold(n_splits=n_fold,random_state=1)\n",
    "   test_pred=np.empty((test.shape[0],1),float)\n",
    "   train_pred=np.empty((0,1),float)\n",
    "   for train_indices,val_indices in folds.split(train,y.values):\n",
    "      x_train,x_val=train.iloc[train_indices],train.iloc[val_indices]\n",
    "      y_train,y_val=y.iloc[train_indices],y.iloc[val_indices]\n",
    "\n",
    "      model.fit(X=x_train,y=y_train)\n",
    "      train_pred=np.append(train_pred,model.predict(x_val))\n",
    "      test_pred=np.append(test_pred,model.predict(test))\n",
    "    return test_pred.reshape(-1,1),train_pred\n"
   ]
  },
  {
   "cell_type": "code",
   "execution_count": 123,
   "metadata": {},
   "outputs": [],
   "source": [
    "df_a = pd.DataFrame(R)\n",
    "dp1 = pd.concat([testx, df_a], axis=1)"
   ]
  },
  {
   "cell_type": "code",
   "execution_count": 124,
   "metadata": {},
   "outputs": [],
   "source": [
    "dp1.to_csv('C:/Users/Asus/result14.csv',index=False)"
   ]
  },
  {
   "cell_type": "code",
   "execution_count": 130,
   "metadata": {},
   "outputs": [],
   "source": [
    "model5 = VotingClassifier(estimators=[('1',model1),('2',model2)] ,voting='hard')"
   ]
  },
  {
   "cell_type": "code",
   "execution_count": 131,
   "metadata": {},
   "outputs": [
    {
     "data": {
      "text/plain": [
       "array([0.80909151, 0.80856523, 0.80876258, 0.81198605])"
      ]
     },
     "execution_count": 131,
     "metadata": {},
     "output_type": "execute_result"
    }
   ],
   "source": [
    "cross_val_score(model5,dfn.drop('LoanStatus',axis=1), dfn.LoanStatus, cv=4)"
   ]
  },
  {
   "cell_type": "code",
   "execution_count": 129,
   "metadata": {},
   "outputs": [
    {
     "data": {
      "text/plain": [
       "80.9009275"
      ]
     },
     "execution_count": 129,
     "metadata": {},
     "output_type": "execute_result"
    }
   ],
   "source": [
    "3.2360371/0.04"
   ]
  },
  {
   "cell_type": "code",
   "execution_count": 132,
   "metadata": {},
   "outputs": [
    {
     "data": {
      "text/plain": [
       "3.2384053699999997"
      ]
     },
     "execution_count": 132,
     "metadata": {},
     "output_type": "execute_result"
    }
   ],
   "source": [
    "0.80909151+ 0.80856523+0.80876258+ 0.81198605"
   ]
  },
  {
   "cell_type": "code",
   "execution_count": 133,
   "metadata": {},
   "outputs": [
    {
     "data": {
      "text/plain": [
       "80.96013425"
      ]
     },
     "execution_count": 133,
     "metadata": {},
     "output_type": "execute_result"
    }
   ],
   "source": [
    "3.2384053699999997/0.04"
   ]
  },
  {
   "cell_type": "code",
   "execution_count": 134,
   "metadata": {},
   "outputs": [],
   "source": [
    "model5.fit(dfn.drop('LoanStatus',axis=1), dfn.LoanStatus)\n",
    "S=model1.predict(testn.drop('LoanStatus',axis=1))"
   ]
  },
  {
   "cell_type": "code",
   "execution_count": 138,
   "metadata": {},
   "outputs": [],
   "source": [
    "df_a = pd.DataFrame(S)\n",
    "dp1 = pd.concat([testx, df_a], axis=1)"
   ]
  },
  {
   "cell_type": "code",
   "execution_count": 142,
   "metadata": {},
   "outputs": [
    {
     "ename": "ModuleNotFoundError",
     "evalue": "No module named 'lightgbm'",
     "output_type": "error",
     "traceback": [
      "\u001b[1;31m---------------------------------------------------------------------------\u001b[0m",
      "\u001b[1;31mModuleNotFoundError\u001b[0m                       Traceback (most recent call last)",
      "\u001b[1;32m<ipython-input-142-5dacb4a27011>\u001b[0m in \u001b[0;36m<module>\u001b[1;34m\u001b[0m\n\u001b[1;32m----> 1\u001b[1;33m \u001b[1;32mimport\u001b[0m \u001b[0mlightgbm\u001b[0m \u001b[1;32mas\u001b[0m \u001b[0mlgb\u001b[0m\u001b[1;33m\u001b[0m\u001b[1;33m\u001b[0m\u001b[0m\n\u001b[0m",
      "\u001b[1;31mModuleNotFoundError\u001b[0m: No module named 'lightgbm'"
     ]
    }
   ],
   "source": [
    "import lightgbm as lgb"
   ]
  },
  {
   "cell_type": "code",
   "execution_count": 140,
   "metadata": {},
   "outputs": [],
   "source": [
    "dp1.to_csv('C:/Users/Asus/result30.csv',index=False)"
   ]
  },
  {
   "cell_type": "code",
   "execution_count": 141,
   "metadata": {},
   "outputs": [
    {
     "ename": "ModuleNotFoundError",
     "evalue": "No module named 'catboost'",
     "output_type": "error",
     "traceback": [
      "\u001b[1;31m---------------------------------------------------------------------------\u001b[0m",
      "\u001b[1;31mModuleNotFoundError\u001b[0m                       Traceback (most recent call last)",
      "\u001b[1;32m<ipython-input-141-a552d8edcebd>\u001b[0m in \u001b[0;36m<module>\u001b[1;34m\u001b[0m\n\u001b[1;32m----> 1\u001b[1;33m \u001b[1;32mfrom\u001b[0m \u001b[0mcatboost\u001b[0m \u001b[1;32mimport\u001b[0m \u001b[0mCatBoostClassifier\u001b[0m\u001b[1;33m\u001b[0m\u001b[1;33m\u001b[0m\u001b[0m\n\u001b[0m",
      "\u001b[1;31mModuleNotFoundError\u001b[0m: No module named 'catboost'"
     ]
    }
   ],
   "source": [
    "from catboost import CatBoostClassifier"
   ]
  },
  {
   "cell_type": "code",
   "execution_count": null,
   "metadata": {},
   "outputs": [],
   "source": [
    "model5.fit(dfn.drop('LoanStatus',axis=1), dfn.LoanStatus)\n",
    "S=model1.predict(testn.drop('LoanStatus',axis=1))"
   ]
  },
  {
   "cell_type": "code",
   "execution_count": 36,
   "metadata": {},
   "outputs": [
    {
     "data": {
      "text/html": [
       "<div>\n",
       "<style scoped>\n",
       "    .dataframe tbody tr th:only-of-type {\n",
       "        vertical-align: middle;\n",
       "    }\n",
       "\n",
       "    .dataframe tbody tr th {\n",
       "        vertical-align: top;\n",
       "    }\n",
       "\n",
       "    .dataframe thead th {\n",
       "        text-align: right;\n",
       "    }\n",
       "</style>\n",
       "<table border=\"1\" class=\"dataframe\">\n",
       "  <thead>\n",
       "    <tr style=\"text-align: right;\">\n",
       "      <th></th>\n",
       "      <th>CurrentLoanAmount</th>\n",
       "      <th>CreditScore</th>\n",
       "      <th>AnnualIncome</th>\n",
       "      <th>MonthlyDebt</th>\n",
       "      <th>YearsofCreditHistory</th>\n",
       "      <th>Monthssincelastdelinquent</th>\n",
       "      <th>NumberofOpenAccounts</th>\n",
       "      <th>NumberofCreditProblems</th>\n",
       "      <th>CurrentCreditBalance</th>\n",
       "      <th>MaximumOpenCredit</th>\n",
       "      <th>Bankruptcies</th>\n",
       "      <th>TaxLiens</th>\n",
       "      <th>LoanStatus</th>\n",
       "      <th>term</th>\n",
       "      <th>homeownership</th>\n",
       "      <th>purpose</th>\n",
       "      <th>Yearsincurrentjobf</th>\n",
       "    </tr>\n",
       "  </thead>\n",
       "  <tbody>\n",
       "    <tr>\n",
       "      <th>0</th>\n",
       "      <td>17879</td>\n",
       "      <td>739.0</td>\n",
       "      <td>95357.0</td>\n",
       "      <td>1509.82</td>\n",
       "      <td>34.4</td>\n",
       "      <td>5.0</td>\n",
       "      <td>26</td>\n",
       "      <td>0</td>\n",
       "      <td>23986</td>\n",
       "      <td>40313</td>\n",
       "      <td>0.0</td>\n",
       "      <td>0.0</td>\n",
       "      <td>1</td>\n",
       "      <td>1</td>\n",
       "      <td>1</td>\n",
       "      <td>3</td>\n",
       "      <td>7.0</td>\n",
       "    </tr>\n",
       "    <tr>\n",
       "      <th>1</th>\n",
       "      <td>99999999</td>\n",
       "      <td>619.0</td>\n",
       "      <td>54406.0</td>\n",
       "      <td>1065.45</td>\n",
       "      <td>12.7</td>\n",
       "      <td>NaN</td>\n",
       "      <td>8</td>\n",
       "      <td>0</td>\n",
       "      <td>22938</td>\n",
       "      <td>31250</td>\n",
       "      <td>0.0</td>\n",
       "      <td>0.0</td>\n",
       "      <td>1</td>\n",
       "      <td>0</td>\n",
       "      <td>3</td>\n",
       "      <td>3</td>\n",
       "      <td>7.0</td>\n",
       "    </tr>\n",
       "    <tr>\n",
       "      <th>2</th>\n",
       "      <td>99999999</td>\n",
       "      <td>738.0</td>\n",
       "      <td>40480.0</td>\n",
       "      <td>573.47</td>\n",
       "      <td>32.7</td>\n",
       "      <td>60.0</td>\n",
       "      <td>9</td>\n",
       "      <td>1</td>\n",
       "      <td>3963</td>\n",
       "      <td>5669</td>\n",
       "      <td>1.0</td>\n",
       "      <td>0.0</td>\n",
       "      <td>1</td>\n",
       "      <td>1</td>\n",
       "      <td>3</td>\n",
       "      <td>6</td>\n",
       "      <td>1.0</td>\n",
       "    </tr>\n",
       "    <tr>\n",
       "      <th>3</th>\n",
       "      <td>11200</td>\n",
       "      <td>738.0</td>\n",
       "      <td>53965.0</td>\n",
       "      <td>1358.11</td>\n",
       "      <td>15.8</td>\n",
       "      <td>NaN</td>\n",
       "      <td>8</td>\n",
       "      <td>1</td>\n",
       "      <td>11782</td>\n",
       "      <td>25951</td>\n",
       "      <td>1.0</td>\n",
       "      <td>0.0</td>\n",
       "      <td>1</td>\n",
       "      <td>1</td>\n",
       "      <td>3</td>\n",
       "      <td>3</td>\n",
       "      <td>5.0</td>\n",
       "    </tr>\n",
       "    <tr>\n",
       "      <th>4</th>\n",
       "      <td>3608</td>\n",
       "      <td>731.0</td>\n",
       "      <td>47709.0</td>\n",
       "      <td>339.93</td>\n",
       "      <td>16.1</td>\n",
       "      <td>47.0</td>\n",
       "      <td>6</td>\n",
       "      <td>0</td>\n",
       "      <td>22909</td>\n",
       "      <td>25568</td>\n",
       "      <td>0.0</td>\n",
       "      <td>0.0</td>\n",
       "      <td>1</td>\n",
       "      <td>1</td>\n",
       "      <td>1</td>\n",
       "      <td>5</td>\n",
       "      <td>11.0</td>\n",
       "    </tr>\n",
       "  </tbody>\n",
       "</table>\n",
       "</div>"
      ],
      "text/plain": [
       "   CurrentLoanAmount  CreditScore  AnnualIncome  MonthlyDebt  \\\n",
       "0              17879        739.0       95357.0      1509.82   \n",
       "1           99999999        619.0       54406.0      1065.45   \n",
       "2           99999999        738.0       40480.0       573.47   \n",
       "3              11200        738.0       53965.0      1358.11   \n",
       "4               3608        731.0       47709.0       339.93   \n",
       "\n",
       "   YearsofCreditHistory  Monthssincelastdelinquent  NumberofOpenAccounts  \\\n",
       "0                  34.4                        5.0                    26   \n",
       "1                  12.7                        NaN                     8   \n",
       "2                  32.7                       60.0                     9   \n",
       "3                  15.8                        NaN                     8   \n",
       "4                  16.1                       47.0                     6   \n",
       "\n",
       "   NumberofCreditProblems  CurrentCreditBalance  MaximumOpenCredit  \\\n",
       "0                       0                 23986              40313   \n",
       "1                       0                 22938              31250   \n",
       "2                       1                  3963               5669   \n",
       "3                       1                 11782              25951   \n",
       "4                       0                 22909              25568   \n",
       "\n",
       "   Bankruptcies  TaxLiens  LoanStatus  term  homeownership  purpose  \\\n",
       "0           0.0       0.0           1     1              1        3   \n",
       "1           0.0       0.0           1     0              3        3   \n",
       "2           1.0       0.0           1     1              3        6   \n",
       "3           1.0       0.0           1     1              3        3   \n",
       "4           0.0       0.0           1     1              1        5   \n",
       "\n",
       "   Yearsincurrentjobf  \n",
       "0                 7.0  \n",
       "1                 7.0  \n",
       "2                 1.0  \n",
       "3                 5.0  \n",
       "4                11.0  "
      ]
     },
     "execution_count": 36,
     "metadata": {},
     "output_type": "execute_result"
    }
   ],
   "source": [
    "dfn.head()"
   ]
  },
  {
   "cell_type": "code",
   "execution_count": 57,
   "metadata": {},
   "outputs": [],
   "source": [
    "X= dfn.drop(['CurrentLoanAmount','MonthlyDebt','YearsofCreditHistory','Monthssincelastdelinquent','NumberofOpenAccounts','NumberofCreditProblems','CurrentCreditBalance','MaximumOpenCredit','Bankruptcies','TaxLiens','LoanStatus','Yearsincurrentjobf'],axis=1)"
   ]
  },
  {
   "cell_type": "code",
   "execution_count": 58,
   "metadata": {},
   "outputs": [],
   "source": [
    "testx = testn.drop(['CurrentLoanAmount','MonthlyDebt','YearsofCreditHistory','Monthssincelastdelinquent','NumberofOpenAccounts','NumberofCreditProblems','CurrentCreditBalance','MaximumOpenCredit','Bankruptcies','TaxLiens','LoanStatus','Yearsincurrentjobf'],axis=1)"
   ]
  },
  {
   "cell_type": "code",
   "execution_count": 41,
   "metadata": {},
   "outputs": [
    {
     "ename": "NameError",
     "evalue": "name 'VotingClassifier' is not defined",
     "output_type": "error",
     "traceback": [
      "\u001b[1;31m---------------------------------------------------------------------------\u001b[0m",
      "\u001b[1;31mNameError\u001b[0m                                 Traceback (most recent call last)",
      "\u001b[1;32m<ipython-input-41-cfa87bdd5877>\u001b[0m in \u001b[0;36m<module>\u001b[1;34m\u001b[0m\n\u001b[1;32m----> 1\u001b[1;33m \u001b[0mmodel\u001b[0m \u001b[1;33m=\u001b[0m \u001b[0mVotingClassifier\u001b[0m\u001b[1;33m(\u001b[0m\u001b[0mestimators\u001b[0m\u001b[1;33m=\u001b[0m\u001b[1;33m[\u001b[0m\u001b[1;33m(\u001b[0m\u001b[1;34m'lr'\u001b[0m\u001b[1;33m,\u001b[0m \u001b[0mh\u001b[0m\u001b[1;33m)\u001b[0m\u001b[1;33m,\u001b[0m \u001b[1;33m(\u001b[0m\u001b[1;34m'gbm'\u001b[0m\u001b[1;33m,\u001b[0m \u001b[0mm\u001b[0m\u001b[1;33m)\u001b[0m\u001b[1;33m,\u001b[0m\u001b[1;33m(\u001b[0m\u001b[1;34m'1'\u001b[0m\u001b[1;33m,\u001b[0m\u001b[0mmodel1\u001b[0m\u001b[1;33m)\u001b[0m\u001b[1;33m,\u001b[0m\u001b[1;33m(\u001b[0m\u001b[1;34m'2'\u001b[0m\u001b[1;33m,\u001b[0m\u001b[0mmodel2\u001b[0m\u001b[1;33m)\u001b[0m\u001b[1;33m]\u001b[0m \u001b[1;33m,\u001b[0m\u001b[0mvoting\u001b[0m\u001b[1;33m=\u001b[0m\u001b[1;34m'hard'\u001b[0m\u001b[1;33m)\u001b[0m\u001b[1;33m\u001b[0m\u001b[1;33m\u001b[0m\u001b[0m\n\u001b[0m",
      "\u001b[1;31mNameError\u001b[0m: name 'VotingClassifier' is not defined"
     ]
    }
   ],
   "source": [
    "model = VotingClassifier(estimators=[('lr', h), ('gbm', m),('1',model1),('2',model2)] ,voting='hard')"
   ]
  },
  {
   "cell_type": "code",
   "execution_count": 67,
   "metadata": {},
   "outputs": [],
   "source": [
    "model = VotingClassifier(estimators=[('lr', h), ('gbm', m),('rf',d)] ,voting='hard')"
   ]
  },
  {
   "cell_type": "code",
   "execution_count": 68,
   "metadata": {},
   "outputs": [
    {
     "data": {
      "text/plain": [
       "array([0.80771002, 0.80652589, 0.80705217, 0.81040721])"
      ]
     },
     "execution_count": 68,
     "metadata": {},
     "output_type": "execute_result"
    }
   ],
   "source": [
    "cross_val_score(model,X, dfn.LoanStatus, cv=4)"
   ]
  },
  {
   "cell_type": "code",
   "execution_count": 55,
   "metadata": {},
   "outputs": [],
   "source": [
    "model = VotingClassifier(estimators=[('1',model1),('2',model2)] ,voting='hard')"
   ]
  },
  {
   "cell_type": "code",
   "execution_count": null,
   "metadata": {},
   "outputs": [],
   "source": [
    "model.fit(X, dfn.LoanStatus)"
   ]
  },
  {
   "cell_type": "code",
   "execution_count": null,
   "metadata": {},
   "outputs": [],
   "source": [
    "\n",
    "S=model.predict(testx))"
   ]
  }
 ],
 "metadata": {
  "kernelspec": {
   "display_name": "Python 3",
   "language": "python",
   "name": "python3"
  },
  "language_info": {
   "codemirror_mode": {
    "name": "ipython",
    "version": 3
   },
   "file_extension": ".py",
   "mimetype": "text/x-python",
   "name": "python",
   "nbconvert_exporter": "python",
   "pygments_lexer": "ipython3",
   "version": "3.7.6"
  }
 },
 "nbformat": 4,
 "nbformat_minor": 4
}
